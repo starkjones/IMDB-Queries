{
 "cells": [
  {
   "cell_type": "markdown",
   "id": "b9a1db18",
   "metadata": {},
   "source": [
    "## Hypothesis Testing"
   ]
  },
  {
   "cell_type": "code",
   "execution_count": 1,
   "id": "1fd1bacb",
   "metadata": {},
   "outputs": [],
   "source": [
    "# Import Libraries:\n",
    "\n",
    "import pandas as pd\n",
    "import numpy as py\n",
    "import tmdbsimple as tmdb"
   ]
  },
  {
   "cell_type": "code",
   "execution_count": 2,
   "id": "b8d890e5",
   "metadata": {},
   "outputs": [
    {
     "data": {
      "text/plain": [
       "dict_keys(['api-key'])"
      ]
     },
     "execution_count": 2,
     "metadata": {},
     "output_type": "execute_result"
    }
   ],
   "source": [
    "import json\n",
    "with open('/Users/jnate/.secret/tmdb_api.json', 'r') as f:\n",
    "    login = json.load(f)\n",
    "#Display the keys of the loaded dict:\n",
    "login.keys()"
   ]
  },
  {
   "cell_type": "code",
   "execution_count": 3,
   "id": "570c6a5d",
   "metadata": {},
   "outputs": [],
   "source": [
    "# Load API key:\n",
    "\n",
    "tmdb.API_KEY =  login['api-key']"
   ]
  },
  {
   "cell_type": "code",
   "execution_count": 4,
   "id": "55bafc1b",
   "metadata": {},
   "outputs": [],
   "source": [
    "# Load JSON files:\n",
    "\n",
    "with open('Data\\\\tmdb_api_results_2019.json') as y1:\n",
    "    jsonfile1 = json.load(y1)\n",
    "\n",
    "with open('Data\\\\tmdb_api_results_2020.json') as y2:\n",
    "    jsonfile2 = json.load(y2)"
   ]
  },
  {
   "cell_type": "code",
   "execution_count": 5,
   "id": "2a419631",
   "metadata": {},
   "outputs": [
    {
     "data": {
      "text/html": [
       "<div>\n",
       "<style scoped>\n",
       "    .dataframe tbody tr th:only-of-type {\n",
       "        vertical-align: middle;\n",
       "    }\n",
       "\n",
       "    .dataframe tbody tr th {\n",
       "        vertical-align: top;\n",
       "    }\n",
       "\n",
       "    .dataframe thead th {\n",
       "        text-align: right;\n",
       "    }\n",
       "</style>\n",
       "<table border=\"1\" class=\"dataframe\">\n",
       "  <thead>\n",
       "    <tr style=\"text-align: right;\">\n",
       "      <th></th>\n",
       "      <th>imdb_id</th>\n",
       "      <th>revenue</th>\n",
       "      <th>budget</th>\n",
       "      <th>certification</th>\n",
       "      <th>runtime</th>\n",
       "    </tr>\n",
       "  </thead>\n",
       "  <tbody>\n",
       "    <tr>\n",
       "      <th>0</th>\n",
       "      <td>0</td>\n",
       "      <td>0.0</td>\n",
       "      <td>1.914495e+06</td>\n",
       "      <td>NR</td>\n",
       "      <td>90.0</td>\n",
       "    </tr>\n",
       "    <tr>\n",
       "      <th>1</th>\n",
       "      <td>tt0385887</td>\n",
       "      <td>18377736.0</td>\n",
       "      <td>2.600000e+07</td>\n",
       "      <td>R</td>\n",
       "      <td>145.0</td>\n",
       "    </tr>\n",
       "    <tr>\n",
       "      <th>2</th>\n",
       "      <td>tt0437086</td>\n",
       "      <td>404852543.0</td>\n",
       "      <td>1.700000e+08</td>\n",
       "      <td>PG-13</td>\n",
       "      <td>122.0</td>\n",
       "    </tr>\n",
       "    <tr>\n",
       "      <th>3</th>\n",
       "      <td>tt0441881</td>\n",
       "      <td>2078370.0</td>\n",
       "      <td>2.393482e+07</td>\n",
       "      <td>R</td>\n",
       "      <td>119.0</td>\n",
       "    </tr>\n",
       "    <tr>\n",
       "      <th>4</th>\n",
       "      <td>tt0448115</td>\n",
       "      <td>365971656.0</td>\n",
       "      <td>8.000000e+07</td>\n",
       "      <td>PG-13</td>\n",
       "      <td>132.0</td>\n",
       "    </tr>\n",
       "  </tbody>\n",
       "</table>\n",
       "</div>"
      ],
      "text/plain": [
       "     imdb_id      revenue        budget certification  runtime\n",
       "0          0          0.0  1.914495e+06            NR     90.0\n",
       "1  tt0385887   18377736.0  2.600000e+07             R    145.0\n",
       "2  tt0437086  404852543.0  1.700000e+08         PG-13    122.0\n",
       "3  tt0441881    2078370.0  2.393482e+07             R    119.0\n",
       "4  tt0448115  365971656.0  8.000000e+07         PG-13    132.0"
      ]
     },
     "execution_count": 5,
     "metadata": {},
     "output_type": "execute_result"
    }
   ],
   "source": [
    "# Convert separate years to pandas DataFrames:\n",
    "\n",
    "year2019 = pd.DataFrame(jsonfile1)\n",
    "\n",
    "# Reduce the DataFrame down to 4 columns:\n",
    "year2019 = year2019[['imdb_id', 'revenue', 'budget', 'certification', 'runtime']]\n",
    "\n",
    "# Imputation:\n",
    "\n",
    "year2019['certification'].replace({'' : 'NR', '' : 'NR'}, inplace = True);\n",
    "\n",
    "year2019['certification'].fillna('NR', inplace =True)\n",
    "\n",
    "year2019['revenue'].fillna(0.0, inplace =True)\n",
    "\n",
    "year2019['budget'].fillna(round(year2019['budget'].mean(),2), inplace = True)\n",
    "\n",
    "year2019['runtime'].fillna(round(year2019['runtime'].mode(),2), inplace =True)\n",
    "\n",
    "# Check:\n",
    "\n",
    "year2019.head()"
   ]
  },
  {
   "cell_type": "code",
   "execution_count": 6,
   "id": "778c47d9",
   "metadata": {},
   "outputs": [],
   "source": [
    "# Remove ineffectual columns:\n",
    "\n",
    "year2019.drop(columns= 'imdb_id', inplace =True)"
   ]
  },
  {
   "cell_type": "code",
   "execution_count": 7,
   "id": "c1becb37",
   "metadata": {},
   "outputs": [
    {
     "data": {
      "text/html": [
       "<div>\n",
       "<style scoped>\n",
       "    .dataframe tbody tr th:only-of-type {\n",
       "        vertical-align: middle;\n",
       "    }\n",
       "\n",
       "    .dataframe tbody tr th {\n",
       "        vertical-align: top;\n",
       "    }\n",
       "\n",
       "    .dataframe thead th {\n",
       "        text-align: right;\n",
       "    }\n",
       "</style>\n",
       "<table border=\"1\" class=\"dataframe\">\n",
       "  <thead>\n",
       "    <tr style=\"text-align: right;\">\n",
       "      <th></th>\n",
       "      <th>imdb_id</th>\n",
       "      <th>revenue</th>\n",
       "      <th>budget</th>\n",
       "      <th>certification</th>\n",
       "      <th>runtime</th>\n",
       "    </tr>\n",
       "  </thead>\n",
       "  <tbody>\n",
       "    <tr>\n",
       "      <th>0</th>\n",
       "      <td>0</td>\n",
       "      <td>0.0</td>\n",
       "      <td>1026934.58</td>\n",
       "      <td>NR</td>\n",
       "      <td>0.0</td>\n",
       "    </tr>\n",
       "    <tr>\n",
       "      <th>1</th>\n",
       "      <td>tt0062336</td>\n",
       "      <td>0.0</td>\n",
       "      <td>0.00</td>\n",
       "      <td>NR</td>\n",
       "      <td>63.0</td>\n",
       "    </tr>\n",
       "    <tr>\n",
       "      <th>2</th>\n",
       "      <td>tt0093119</td>\n",
       "      <td>0.0</td>\n",
       "      <td>7500000.00</td>\n",
       "      <td>NR</td>\n",
       "      <td>74.0</td>\n",
       "    </tr>\n",
       "    <tr>\n",
       "      <th>3</th>\n",
       "      <td>tt0805647</td>\n",
       "      <td>26900000.0</td>\n",
       "      <td>0.00</td>\n",
       "      <td>PG</td>\n",
       "      <td>106.0</td>\n",
       "    </tr>\n",
       "    <tr>\n",
       "      <th>4</th>\n",
       "      <td>tt0920462</td>\n",
       "      <td>106045.0</td>\n",
       "      <td>0.00</td>\n",
       "      <td>R</td>\n",
       "      <td>97.0</td>\n",
       "    </tr>\n",
       "  </tbody>\n",
       "</table>\n",
       "</div>"
      ],
      "text/plain": [
       "     imdb_id     revenue      budget certification  runtime\n",
       "0          0         0.0  1026934.58            NR      0.0\n",
       "1  tt0062336         0.0        0.00            NR     63.0\n",
       "2  tt0093119         0.0  7500000.00            NR     74.0\n",
       "3  tt0805647  26900000.0        0.00            PG    106.0\n",
       "4  tt0920462    106045.0        0.00             R     97.0"
      ]
     },
     "execution_count": 7,
     "metadata": {},
     "output_type": "execute_result"
    }
   ],
   "source": [
    "# Convert separate years to pandas DataFrames:\n",
    "\n",
    "year2020 = pd.DataFrame(jsonfile2)\n",
    "\n",
    "# Reduce the DataFrame down to 4 columns:\n",
    "year2020 = year2020[['imdb_id', 'revenue', 'budget', 'certification', 'runtime']]\n",
    "\n",
    "# Imputation:\n",
    "\n",
    "year2020['certification'].replace({'' : 'NR', '' : 'NR'}, inplace = True);\n",
    "\n",
    "year2020['certification'].fillna('NR', inplace =True)\n",
    "\n",
    "year2020['revenue'].fillna(0.0, inplace =True)\n",
    "\n",
    "year2020['budget'].fillna(round(year2020['budget'].mean(),2), inplace = True)\n",
    "\n",
    "year2020['runtime'].fillna(round(year2020['runtime'].mode(),2), inplace =True)\n",
    "\n",
    "# Check:\n",
    "\n",
    "year2020.head()"
   ]
  },
  {
   "cell_type": "code",
   "execution_count": 8,
   "id": "1e202754",
   "metadata": {},
   "outputs": [],
   "source": [
    "# Remove ineffectual columns:\n",
    "\n",
    "year2020.drop(columns= 'imdb_id', inplace = True)"
   ]
  },
  {
   "cell_type": "code",
   "execution_count": 9,
   "id": "3b2a70ab",
   "metadata": {},
   "outputs": [
    {
     "data": {
      "text/plain": [
       "3633"
      ]
     },
     "execution_count": 9,
     "metadata": {},
     "output_type": "execute_result"
    }
   ],
   "source": [
    "# Check for duplciates:\n",
    "\n",
    "year2019.duplicated().sum()"
   ]
  },
  {
   "cell_type": "code",
   "execution_count": 10,
   "id": "050e4aa9",
   "metadata": {},
   "outputs": [
    {
     "data": {
      "text/plain": [
       "2859"
      ]
     },
     "execution_count": 10,
     "metadata": {},
     "output_type": "execute_result"
    }
   ],
   "source": [
    "# Check for duplciates:\n",
    "\n",
    "year2020.duplicated().sum()"
   ]
  },
  {
   "cell_type": "code",
   "execution_count": 11,
   "id": "ed27eb53",
   "metadata": {},
   "outputs": [
    {
     "data": {
      "text/html": [
       "<div>\n",
       "<style scoped>\n",
       "    .dataframe tbody tr th:only-of-type {\n",
       "        vertical-align: middle;\n",
       "    }\n",
       "\n",
       "    .dataframe tbody tr th {\n",
       "        vertical-align: top;\n",
       "    }\n",
       "\n",
       "    .dataframe thead th {\n",
       "        text-align: right;\n",
       "    }\n",
       "</style>\n",
       "<table border=\"1\" class=\"dataframe\">\n",
       "  <thead>\n",
       "    <tr style=\"text-align: right;\">\n",
       "      <th></th>\n",
       "      <th>revenue</th>\n",
       "      <th>budget</th>\n",
       "      <th>certification</th>\n",
       "      <th>runtime</th>\n",
       "    </tr>\n",
       "  </thead>\n",
       "  <tbody>\n",
       "    <tr>\n",
       "      <th>0</th>\n",
       "      <td>0.0</td>\n",
       "      <td>1026934.58</td>\n",
       "      <td>NR</td>\n",
       "      <td>0.0</td>\n",
       "    </tr>\n",
       "    <tr>\n",
       "      <th>1</th>\n",
       "      <td>0.0</td>\n",
       "      <td>0.00</td>\n",
       "      <td>NR</td>\n",
       "      <td>63.0</td>\n",
       "    </tr>\n",
       "    <tr>\n",
       "      <th>2</th>\n",
       "      <td>0.0</td>\n",
       "      <td>7500000.00</td>\n",
       "      <td>NR</td>\n",
       "      <td>74.0</td>\n",
       "    </tr>\n",
       "    <tr>\n",
       "      <th>3</th>\n",
       "      <td>26900000.0</td>\n",
       "      <td>0.00</td>\n",
       "      <td>PG</td>\n",
       "      <td>106.0</td>\n",
       "    </tr>\n",
       "    <tr>\n",
       "      <th>4</th>\n",
       "      <td>106045.0</td>\n",
       "      <td>0.00</td>\n",
       "      <td>R</td>\n",
       "      <td>97.0</td>\n",
       "    </tr>\n",
       "    <tr>\n",
       "      <th>...</th>\n",
       "      <td>...</td>\n",
       "      <td>...</td>\n",
       "      <td>...</td>\n",
       "      <td>...</td>\n",
       "    </tr>\n",
       "    <tr>\n",
       "      <th>3701</th>\n",
       "      <td>11136444.0</td>\n",
       "      <td>7907534.00</td>\n",
       "      <td>NR</td>\n",
       "      <td>135.0</td>\n",
       "    </tr>\n",
       "    <tr>\n",
       "      <th>3702</th>\n",
       "      <td>0.0</td>\n",
       "      <td>2000000.00</td>\n",
       "      <td>NR</td>\n",
       "      <td>98.0</td>\n",
       "    </tr>\n",
       "    <tr>\n",
       "      <th>3703</th>\n",
       "      <td>6435260.0</td>\n",
       "      <td>20000000.00</td>\n",
       "      <td>NR</td>\n",
       "      <td>113.0</td>\n",
       "    </tr>\n",
       "    <tr>\n",
       "      <th>3707</th>\n",
       "      <td>0.0</td>\n",
       "      <td>0.00</td>\n",
       "      <td>R</td>\n",
       "      <td>119.0</td>\n",
       "    </tr>\n",
       "    <tr>\n",
       "      <th>3709</th>\n",
       "      <td>236880.0</td>\n",
       "      <td>0.00</td>\n",
       "      <td>NR</td>\n",
       "      <td>81.0</td>\n",
       "    </tr>\n",
       "  </tbody>\n",
       "</table>\n",
       "<p>859 rows × 4 columns</p>\n",
       "</div>"
      ],
      "text/plain": [
       "         revenue       budget certification  runtime\n",
       "0            0.0   1026934.58            NR      0.0\n",
       "1            0.0         0.00            NR     63.0\n",
       "2            0.0   7500000.00            NR     74.0\n",
       "3     26900000.0         0.00            PG    106.0\n",
       "4       106045.0         0.00             R     97.0\n",
       "...          ...          ...           ...      ...\n",
       "3701  11136444.0   7907534.00            NR    135.0\n",
       "3702         0.0   2000000.00            NR     98.0\n",
       "3703   6435260.0  20000000.00            NR    113.0\n",
       "3707         0.0         0.00             R    119.0\n",
       "3709    236880.0         0.00            NR     81.0\n",
       "\n",
       "[859 rows x 4 columns]"
      ]
     },
     "execution_count": 11,
     "metadata": {},
     "output_type": "execute_result"
    }
   ],
   "source": [
    "# Removal of duplciates\n",
    "\n",
    "year2019.drop_duplicates()\n",
    "\n",
    "year2020.drop_duplicates()"
   ]
  },
  {
   "cell_type": "code",
   "execution_count": 12,
   "id": "5c8c070d",
   "metadata": {},
   "outputs": [
    {
     "data": {
      "text/plain": [
       "3633"
      ]
     },
     "execution_count": 12,
     "metadata": {},
     "output_type": "execute_result"
    }
   ],
   "source": [
    "year2019.duplicated().sum()"
   ]
  },
  {
   "cell_type": "code",
   "execution_count": 13,
   "id": "644d41ea",
   "metadata": {},
   "outputs": [
    {
     "data": {
      "text/plain": [
       "2859"
      ]
     },
     "execution_count": 13,
     "metadata": {},
     "output_type": "execute_result"
    }
   ],
   "source": [
    "year2020.duplicated().sum()"
   ]
  },
  {
   "cell_type": "code",
   "execution_count": 14,
   "id": "9b7d1d15",
   "metadata": {},
   "outputs": [
    {
     "name": "stdout",
     "output_type": "stream",
     "text": [
      "<class 'pandas.core.frame.DataFrame'>\n",
      "RangeIndex: 4677 entries, 0 to 4676\n",
      "Data columns (total 4 columns):\n",
      " #   Column         Non-Null Count  Dtype  \n",
      "---  ------         --------------  -----  \n",
      " 0   revenue        4677 non-null   float64\n",
      " 1   budget         4677 non-null   float64\n",
      " 2   certification  4677 non-null   object \n",
      " 3   runtime        4648 non-null   float64\n",
      "dtypes: float64(3), object(1)\n",
      "memory usage: 146.3+ KB\n"
     ]
    }
   ],
   "source": [
    "year2019.info()"
   ]
  },
  {
   "cell_type": "code",
   "execution_count": 15,
   "id": "f19fd193",
   "metadata": {},
   "outputs": [
    {
     "name": "stdout",
     "output_type": "stream",
     "text": [
      "<class 'pandas.core.frame.DataFrame'>\n",
      "RangeIndex: 3718 entries, 0 to 3717\n",
      "Data columns (total 4 columns):\n",
      " #   Column         Non-Null Count  Dtype  \n",
      "---  ------         --------------  -----  \n",
      " 0   revenue        3718 non-null   float64\n",
      " 1   budget         3718 non-null   float64\n",
      " 2   certification  3718 non-null   object \n",
      " 3   runtime        3717 non-null   float64\n",
      "dtypes: float64(3), object(1)\n",
      "memory usage: 116.3+ KB\n"
     ]
    }
   ],
   "source": [
    "year2020.info()"
   ]
  },
  {
   "cell_type": "code",
   "execution_count": 16,
   "id": "2250dc8b",
   "metadata": {},
   "outputs": [
    {
     "data": {
      "text/html": [
       "<div>\n",
       "<style scoped>\n",
       "    .dataframe tbody tr th:only-of-type {\n",
       "        vertical-align: middle;\n",
       "    }\n",
       "\n",
       "    .dataframe tbody tr th {\n",
       "        vertical-align: top;\n",
       "    }\n",
       "\n",
       "    .dataframe thead th {\n",
       "        text-align: right;\n",
       "    }\n",
       "</style>\n",
       "<table border=\"1\" class=\"dataframe\">\n",
       "  <thead>\n",
       "    <tr style=\"text-align: right;\">\n",
       "      <th></th>\n",
       "      <th>revenue</th>\n",
       "      <th>budget</th>\n",
       "      <th>certification</th>\n",
       "      <th>runtime</th>\n",
       "    </tr>\n",
       "  </thead>\n",
       "  <tbody>\n",
       "    <tr>\n",
       "      <th>0</th>\n",
       "      <td>0.0</td>\n",
       "      <td>1026934.58</td>\n",
       "      <td>NR</td>\n",
       "      <td>0.0</td>\n",
       "    </tr>\n",
       "    <tr>\n",
       "      <th>1</th>\n",
       "      <td>0.0</td>\n",
       "      <td>0.00</td>\n",
       "      <td>NR</td>\n",
       "      <td>63.0</td>\n",
       "    </tr>\n",
       "    <tr>\n",
       "      <th>2</th>\n",
       "      <td>0.0</td>\n",
       "      <td>7500000.00</td>\n",
       "      <td>NR</td>\n",
       "      <td>74.0</td>\n",
       "    </tr>\n",
       "    <tr>\n",
       "      <th>3</th>\n",
       "      <td>26900000.0</td>\n",
       "      <td>0.00</td>\n",
       "      <td>PG</td>\n",
       "      <td>106.0</td>\n",
       "    </tr>\n",
       "    <tr>\n",
       "      <th>4</th>\n",
       "      <td>106045.0</td>\n",
       "      <td>0.00</td>\n",
       "      <td>R</td>\n",
       "      <td>97.0</td>\n",
       "    </tr>\n",
       "    <tr>\n",
       "      <th>...</th>\n",
       "      <td>...</td>\n",
       "      <td>...</td>\n",
       "      <td>...</td>\n",
       "      <td>...</td>\n",
       "    </tr>\n",
       "    <tr>\n",
       "      <th>3713</th>\n",
       "      <td>0.0</td>\n",
       "      <td>0.00</td>\n",
       "      <td>NR</td>\n",
       "      <td>92.0</td>\n",
       "    </tr>\n",
       "    <tr>\n",
       "      <th>3714</th>\n",
       "      <td>0.0</td>\n",
       "      <td>0.00</td>\n",
       "      <td>NR</td>\n",
       "      <td>92.0</td>\n",
       "    </tr>\n",
       "    <tr>\n",
       "      <th>3715</th>\n",
       "      <td>0.0</td>\n",
       "      <td>0.00</td>\n",
       "      <td>NR</td>\n",
       "      <td>103.0</td>\n",
       "    </tr>\n",
       "    <tr>\n",
       "      <th>3716</th>\n",
       "      <td>0.0</td>\n",
       "      <td>0.00</td>\n",
       "      <td>NR</td>\n",
       "      <td>0.0</td>\n",
       "    </tr>\n",
       "    <tr>\n",
       "      <th>3717</th>\n",
       "      <td>0.0</td>\n",
       "      <td>0.00</td>\n",
       "      <td>NR</td>\n",
       "      <td>92.0</td>\n",
       "    </tr>\n",
       "  </tbody>\n",
       "</table>\n",
       "<p>3717 rows × 4 columns</p>\n",
       "</div>"
      ],
      "text/plain": [
       "         revenue      budget certification  runtime\n",
       "0            0.0  1026934.58            NR      0.0\n",
       "1            0.0        0.00            NR     63.0\n",
       "2            0.0  7500000.00            NR     74.0\n",
       "3     26900000.0        0.00            PG    106.0\n",
       "4       106045.0        0.00             R     97.0\n",
       "...          ...         ...           ...      ...\n",
       "3713         0.0        0.00            NR     92.0\n",
       "3714         0.0        0.00            NR     92.0\n",
       "3715         0.0        0.00            NR    103.0\n",
       "3716         0.0        0.00            NR      0.0\n",
       "3717         0.0        0.00            NR     92.0\n",
       "\n",
       "[3717 rows x 4 columns]"
      ]
     },
     "execution_count": 16,
     "metadata": {},
     "output_type": "execute_result"
    }
   ],
   "source": [
    "# Removal of NaN values:\n",
    "\n",
    "year2019.dropna(inplace = False)\n",
    "year2020.dropna(inplace = False)"
   ]
  },
  {
   "cell_type": "code",
   "execution_count": 17,
   "id": "a0293c27",
   "metadata": {},
   "outputs": [
    {
     "data": {
      "text/plain": [
       "revenue           0\n",
       "budget            0\n",
       "certification     0\n",
       "runtime          29\n",
       "dtype: int64"
      ]
     },
     "execution_count": 17,
     "metadata": {},
     "output_type": "execute_result"
    }
   ],
   "source": [
    "year2019.isna().sum()"
   ]
  },
  {
   "cell_type": "code",
   "execution_count": 18,
   "id": "aba95298",
   "metadata": {},
   "outputs": [
    {
     "data": {
      "text/html": [
       "<div>\n",
       "<style scoped>\n",
       "    .dataframe tbody tr th:only-of-type {\n",
       "        vertical-align: middle;\n",
       "    }\n",
       "\n",
       "    .dataframe tbody tr th {\n",
       "        vertical-align: top;\n",
       "    }\n",
       "\n",
       "    .dataframe thead th {\n",
       "        text-align: right;\n",
       "    }\n",
       "</style>\n",
       "<table border=\"1\" class=\"dataframe\">\n",
       "  <thead>\n",
       "    <tr style=\"text-align: right;\">\n",
       "      <th></th>\n",
       "      <th>revenue</th>\n",
       "      <th>budget</th>\n",
       "      <th>certification</th>\n",
       "      <th>runtime</th>\n",
       "    </tr>\n",
       "  </thead>\n",
       "  <tbody>\n",
       "    <tr>\n",
       "      <th>1</th>\n",
       "      <td>18377736.0</td>\n",
       "      <td>26000000.0</td>\n",
       "      <td>R</td>\n",
       "      <td>145.0</td>\n",
       "    </tr>\n",
       "    <tr>\n",
       "      <th>2</th>\n",
       "      <td>404852543.0</td>\n",
       "      <td>170000000.0</td>\n",
       "      <td>PG-13</td>\n",
       "      <td>122.0</td>\n",
       "    </tr>\n",
       "    <tr>\n",
       "      <th>3</th>\n",
       "      <td>2078370.0</td>\n",
       "      <td>23934823.0</td>\n",
       "      <td>R</td>\n",
       "      <td>119.0</td>\n",
       "    </tr>\n",
       "    <tr>\n",
       "      <th>4</th>\n",
       "      <td>365971656.0</td>\n",
       "      <td>80000000.0</td>\n",
       "      <td>PG-13</td>\n",
       "      <td>132.0</td>\n",
       "    </tr>\n",
       "    <tr>\n",
       "      <th>5</th>\n",
       "      <td>3364426.0</td>\n",
       "      <td>20000000.0</td>\n",
       "      <td>R</td>\n",
       "      <td>110.0</td>\n",
       "    </tr>\n",
       "  </tbody>\n",
       "</table>\n",
       "</div>"
      ],
      "text/plain": [
       "       revenue       budget certification  runtime\n",
       "1   18377736.0   26000000.0             R    145.0\n",
       "2  404852543.0  170000000.0         PG-13    122.0\n",
       "3    2078370.0   23934823.0             R    119.0\n",
       "4  365971656.0   80000000.0         PG-13    132.0\n",
       "5    3364426.0   20000000.0             R    110.0"
      ]
     },
     "execution_count": 18,
     "metadata": {},
     "output_type": "execute_result"
    }
   ],
   "source": [
    "# Remove 2019 movies with 0 budget and 0 revneue:\n",
    "\n",
    "budget19 = year2019['budget'] !=0\n",
    "revenue19 = year2019['revenue'] !=0\n",
    "runtime = year2019['runtime'] !=0\n",
    "\n",
    "df19 = year2019[(year2019['budget'] !=0) & (year2019['revenue'] !=0) & (year2019['runtime'] !=0)]\n",
    "\n",
    "df19.head()"
   ]
  },
  {
   "cell_type": "code",
   "execution_count": 19,
   "id": "6a2d5ffd",
   "metadata": {},
   "outputs": [
    {
     "data": {
      "text/html": [
       "<div>\n",
       "<style scoped>\n",
       "    .dataframe tbody tr th:only-of-type {\n",
       "        vertical-align: middle;\n",
       "    }\n",
       "\n",
       "    .dataframe tbody tr th {\n",
       "        vertical-align: top;\n",
       "    }\n",
       "\n",
       "    .dataframe thead th {\n",
       "        text-align: right;\n",
       "    }\n",
       "</style>\n",
       "<table border=\"1\" class=\"dataframe\">\n",
       "  <thead>\n",
       "    <tr style=\"text-align: right;\">\n",
       "      <th></th>\n",
       "      <th>revenue</th>\n",
       "      <th>budget</th>\n",
       "      <th>certification</th>\n",
       "      <th>runtime</th>\n",
       "    </tr>\n",
       "  </thead>\n",
       "  <tbody>\n",
       "    <tr>\n",
       "      <th>6</th>\n",
       "      <td>47078545.0</td>\n",
       "      <td>7000000.0</td>\n",
       "      <td>PG-13</td>\n",
       "      <td>109.0</td>\n",
       "    </tr>\n",
       "    <tr>\n",
       "      <th>18</th>\n",
       "      <td>2982559.0</td>\n",
       "      <td>10854516.0</td>\n",
       "      <td>NR</td>\n",
       "      <td>107.0</td>\n",
       "    </tr>\n",
       "    <tr>\n",
       "      <th>25</th>\n",
       "      <td>709452.0</td>\n",
       "      <td>646955.0</td>\n",
       "      <td>NR</td>\n",
       "      <td>101.0</td>\n",
       "    </tr>\n",
       "    <tr>\n",
       "      <th>32</th>\n",
       "      <td>39238300.0</td>\n",
       "      <td>33000000.0</td>\n",
       "      <td>R</td>\n",
       "      <td>90.0</td>\n",
       "    </tr>\n",
       "    <tr>\n",
       "      <th>35</th>\n",
       "      <td>7060384.0</td>\n",
       "      <td>15000000.0</td>\n",
       "      <td>R</td>\n",
       "      <td>105.0</td>\n",
       "    </tr>\n",
       "  </tbody>\n",
       "</table>\n",
       "</div>"
      ],
      "text/plain": [
       "       revenue      budget certification  runtime\n",
       "6   47078545.0   7000000.0         PG-13    109.0\n",
       "18   2982559.0  10854516.0            NR    107.0\n",
       "25    709452.0    646955.0            NR    101.0\n",
       "32  39238300.0  33000000.0             R     90.0\n",
       "35   7060384.0  15000000.0             R    105.0"
      ]
     },
     "execution_count": 19,
     "metadata": {},
     "output_type": "execute_result"
    }
   ],
   "source": [
    "# Remove 2020 movies with 0 budget and 0 revneue:\n",
    "\n",
    "budget20 = year2020['budget'] !=0\n",
    "revenue20 = year2020['revenue'] !=0\n",
    "runtime = year2020['runtime'] !=0\n",
    "\n",
    "df20 = year2020[(year2020['budget'] !=0) & (year2020['revenue'] !=0) & (year2020['runtime'] !=0)]\n",
    "\n",
    "df20.head()"
   ]
  },
  {
   "cell_type": "code",
   "execution_count": 20,
   "id": "9370432b",
   "metadata": {},
   "outputs": [
    {
     "data": {
      "text/html": [
       "<div>\n",
       "<style scoped>\n",
       "    .dataframe tbody tr th:only-of-type {\n",
       "        vertical-align: middle;\n",
       "    }\n",
       "\n",
       "    .dataframe tbody tr th {\n",
       "        vertical-align: top;\n",
       "    }\n",
       "\n",
       "    .dataframe thead th {\n",
       "        text-align: right;\n",
       "    }\n",
       "</style>\n",
       "<table border=\"1\" class=\"dataframe\">\n",
       "  <thead>\n",
       "    <tr style=\"text-align: right;\">\n",
       "      <th></th>\n",
       "      <th>revenue</th>\n",
       "      <th>budget</th>\n",
       "      <th>certification</th>\n",
       "      <th>runtime</th>\n",
       "    </tr>\n",
       "  </thead>\n",
       "  <tbody>\n",
       "    <tr>\n",
       "      <th>1</th>\n",
       "      <td>18377736.0</td>\n",
       "      <td>26000000.0</td>\n",
       "      <td>R</td>\n",
       "      <td>145.0</td>\n",
       "    </tr>\n",
       "    <tr>\n",
       "      <th>2</th>\n",
       "      <td>404852543.0</td>\n",
       "      <td>170000000.0</td>\n",
       "      <td>PG-13</td>\n",
       "      <td>122.0</td>\n",
       "    </tr>\n",
       "    <tr>\n",
       "      <th>3</th>\n",
       "      <td>2078370.0</td>\n",
       "      <td>23934823.0</td>\n",
       "      <td>R</td>\n",
       "      <td>119.0</td>\n",
       "    </tr>\n",
       "    <tr>\n",
       "      <th>4</th>\n",
       "      <td>365971656.0</td>\n",
       "      <td>80000000.0</td>\n",
       "      <td>PG-13</td>\n",
       "      <td>132.0</td>\n",
       "    </tr>\n",
       "    <tr>\n",
       "      <th>5</th>\n",
       "      <td>3364426.0</td>\n",
       "      <td>20000000.0</td>\n",
       "      <td>R</td>\n",
       "      <td>110.0</td>\n",
       "    </tr>\n",
       "  </tbody>\n",
       "</table>\n",
       "</div>"
      ],
      "text/plain": [
       "       revenue       budget certification  runtime\n",
       "1   18377736.0   26000000.0             R    145.0\n",
       "2  404852543.0  170000000.0         PG-13    122.0\n",
       "3    2078370.0   23934823.0             R    119.0\n",
       "4  365971656.0   80000000.0         PG-13    132.0\n",
       "5    3364426.0   20000000.0             R    110.0"
      ]
     },
     "execution_count": 20,
     "metadata": {},
     "output_type": "execute_result"
    }
   ],
   "source": [
    "# Combined DataFrame:\n",
    "\n",
    "# Combine / Concatinate separate DataFrames: \n",
    "\n",
    "combined = [df19, df20]\n",
    "\n",
    "df = pd.concat(combined)\n",
    "\n",
    "df.head()"
   ]
  },
  {
   "cell_type": "code",
   "execution_count": 21,
   "id": "22287a8f",
   "metadata": {},
   "outputs": [],
   "source": [
    "# Exporting the final Data Frame as csv:\n",
    "\n",
    "df.to_csv(\"Data/year2019_2020.csv.gz\",compression='gzip',index=False)"
   ]
  },
  {
   "cell_type": "code",
   "execution_count": 22,
   "id": "c3810152",
   "metadata": {},
   "outputs": [
    {
     "data": {
      "text/plain": [
       "NR       115\n",
       "R         84\n",
       "PG-13     54\n",
       "PG        34\n",
       "G          4\n",
       "NC-17      1\n",
       "Name: certification, dtype: int64"
      ]
     },
     "execution_count": 22,
     "metadata": {},
     "output_type": "execute_result"
    }
   ],
   "source": [
    "df['certification'].value_counts()"
   ]
  },
  {
   "cell_type": "markdown",
   "id": "d72ef4f5",
   "metadata": {},
   "source": [
    "### Question: Does the MPAA rating of a movie (G/PG/PG-13/R) affect how much revenue the movie generates?"
   ]
  },
  {
   "cell_type": "markdown",
   "id": "7c643654",
   "metadata": {},
   "source": [
    "***1. State your Null Hypothesis and Alternative Hypothesis:***\n",
    "\n",
    "$H_0$: MPAA rating does not affect a movie's revenue.\n",
    "\n",
    "$H_A$: MPAA does affect a movie's revenue.\n",
    "\n",
    "***2. Select the correct test according to the data type and number of samples.***\n",
    "\n",
    "    Type of comparison: more than 2 samples\n",
    "\n",
    "    Data type: Numeric\n",
    "\n",
    "    Hypothesis Test: ANOVA and/or Tukey"
   ]
  },
  {
   "cell_type": "markdown",
   "id": "1bc12852",
   "metadata": {},
   "source": [
    "### Assumptions of the selected test:\n",
    "\n",
    "    No significant outliers\n",
    "    Equal variance\n",
    "    Normality"
   ]
  },
  {
   "cell_type": "code",
   "execution_count": 23,
   "id": "74de9910",
   "metadata": {},
   "outputs": [
    {
     "data": {
      "text/plain": [
       "dict_keys(['R', 'PG-13', 'NR', 'NC-17', 'PG', 'G'])"
      ]
     },
     "execution_count": 23,
     "metadata": {},
     "output_type": "execute_result"
    }
   ],
   "source": [
    "# Create dictionary for the various regions:\n",
    "\n",
    "ratings = {}\n",
    "\n",
    "# Loop through column to get the unique designations:\n",
    "\n",
    "for i in df['certification'].unique():\n",
    "    # Get series for group and rename:\n",
    "    data = df.loc[df['certification']==i, 'revenue'].copy()\n",
    "    \n",
    "    # Append dictionary:\n",
    "    ratings[i] = data\n",
    "ratings.keys()"
   ]
  },
  {
   "cell_type": "code",
   "execution_count": 24,
   "id": "0a9c6436",
   "metadata": {},
   "outputs": [],
   "source": [
    "# Removing certifications with n < 3 observations \n",
    "\n",
    "# del ratings['NC-17']\n",
    "\n",
    "# ratings.keys()"
   ]
  },
  {
   "cell_type": "code",
   "execution_count": 25,
   "id": "984f3b07",
   "metadata": {},
   "outputs": [
    {
     "name": "stdout",
     "output_type": "stream",
     "text": [
      "There were 1 outliers in the R group.\n",
      "There were 1 outliers in the PG-13 group.\n",
      "There were 2 outliers in the NR group.\n",
      "There were 0 outliers in the NC-17 group.\n",
      "There were 2 outliers in the PG group.\n",
      "There were 0 outliers in the G group.\n"
     ]
    }
   ],
   "source": [
    "import numpy as np\n",
    "from scipy import stats\n",
    "\n",
    "# Check for significant outliers:\n",
    "\n",
    "for rating_name, revenue_df in ratings.items():\n",
    "    # Identify outliers:\n",
    "    outliers = np.abs(stats.zscore(revenue_df))>3\n",
    "    \n",
    "    # Outliers per region:\n",
    "    print(f\"There were {outliers.sum()} outliers in the {rating_name} group.\")\n",
    "    \n",
    "    # Remove the outliers from dat and overwrite teh region dictionary:\n",
    "    revenue_df = revenue_df[~outliers]\n",
    "    \n",
    "    ratings[rating_name] = revenue_df"
   ]
  },
  {
   "cell_type": "code",
   "execution_count": 26,
   "id": "1e1bd7ed",
   "metadata": {},
   "outputs": [
    {
     "name": "stdout",
     "output_type": "stream",
     "text": [
      "R : 83\n",
      "PG-13 : 53\n",
      "NR : 113\n",
      "NC-17 : 1\n",
      "PG : 32\n",
      "G : 4\n"
     ]
    }
   ],
   "source": [
    "# Certification n value:\n",
    "\n",
    "for certification, n_value in ratings.items():\n",
    "    print(certification, \":\", len(n_value))"
   ]
  },
  {
   "cell_type": "code",
   "execution_count": 27,
   "id": "152e0f11",
   "metadata": {
    "scrolled": true
   },
   "outputs": [
    {
     "data": {
      "text/html": [
       "<div>\n",
       "<style scoped>\n",
       "    .dataframe tbody tr th:only-of-type {\n",
       "        vertical-align: middle;\n",
       "    }\n",
       "\n",
       "    .dataframe tbody tr th {\n",
       "        vertical-align: top;\n",
       "    }\n",
       "\n",
       "    .dataframe thead th {\n",
       "        text-align: right;\n",
       "    }\n",
       "</style>\n",
       "<table border=\"1\" class=\"dataframe\">\n",
       "  <thead>\n",
       "    <tr style=\"text-align: right;\">\n",
       "      <th></th>\n",
       "      <th>certification</th>\n",
       "      <th>n</th>\n",
       "      <th>p</th>\n",
       "      <th>significance?</th>\n",
       "    </tr>\n",
       "  </thead>\n",
       "  <tbody>\n",
       "    <tr>\n",
       "      <th>0</th>\n",
       "      <td>R</td>\n",
       "      <td>83</td>\n",
       "      <td>2.167157e-12</td>\n",
       "      <td>True</td>\n",
       "    </tr>\n",
       "    <tr>\n",
       "      <th>1</th>\n",
       "      <td>PG-13</td>\n",
       "      <td>53</td>\n",
       "      <td>1.397880e-09</td>\n",
       "      <td>True</td>\n",
       "    </tr>\n",
       "    <tr>\n",
       "      <th>2</th>\n",
       "      <td>NR</td>\n",
       "      <td>113</td>\n",
       "      <td>3.120519e-15</td>\n",
       "      <td>True</td>\n",
       "    </tr>\n",
       "    <tr>\n",
       "      <th>3</th>\n",
       "      <td>NC-17</td>\n",
       "      <td>n/a</td>\n",
       "      <td>3.120519e-15</td>\n",
       "      <td>True</td>\n",
       "    </tr>\n",
       "    <tr>\n",
       "      <th>4</th>\n",
       "      <td>PG</td>\n",
       "      <td>32</td>\n",
       "      <td>7.051312e-07</td>\n",
       "      <td>True</td>\n",
       "    </tr>\n",
       "    <tr>\n",
       "      <th>5</th>\n",
       "      <td>G</td>\n",
       "      <td>4</td>\n",
       "      <td>4.169193e-03</td>\n",
       "      <td>True</td>\n",
       "    </tr>\n",
       "  </tbody>\n",
       "</table>\n",
       "</div>"
      ],
      "text/plain": [
       "  certification    n             p  significance?\n",
       "0             R   83  2.167157e-12           True\n",
       "1         PG-13   53  1.397880e-09           True\n",
       "2            NR  113  3.120519e-15           True\n",
       "3         NC-17  n/a  3.120519e-15           True\n",
       "4            PG   32  7.051312e-07           True\n",
       "5             G    4  4.169193e-03           True"
      ]
     },
     "execution_count": 27,
     "metadata": {},
     "output_type": "execute_result"
    }
   ],
   "source": [
    "# Normality Test:\n",
    "\n",
    "# Normal test for each region to confirm that there are more than 20 samples in each group.\n",
    "norm_results = [['certification', 'n', 'p', 'significance?']]\n",
    "\n",
    "# Loop through each certification in the dictionary:\n",
    "\n",
    "for ratings_name, temp_df in ratings.items():\n",
    "    n = len(temp_df)\n",
    "    if n < 3:\n",
    "        n = 'n/a'\n",
    "    else:\n",
    "        \n",
    "        # Calculate normal test reuslts:\n",
    "        result = stats.shapiro(temp_df)\n",
    "        p = result.pvalue\n",
    "        n = len(temp_df)\n",
    "    \n",
    "    # Appred the normal results as list:\n",
    "    norm_results.append([ratings_name, n, p, p<.05])\n",
    "nrdf = pd.DataFrame(norm_results[1:], columns = norm_results[0])\n",
    "nrdf"
   ]
  },
  {
   "cell_type": "markdown",
   "id": "0c4454e8",
   "metadata": {},
   "source": [
    "###  ***Interpretation:***\n",
    "\n",
    "p less than alpha for all categories - we do not have normal distributions. We must move on to selecting a non-parametric equivalent test. "
   ]
  },
  {
   "cell_type": "code",
   "execution_count": 28,
   "id": "072fc342",
   "metadata": {},
   "outputs": [
    {
     "data": {
      "text/plain": [
       "KruskalResult(statistic=72.83410470559431, pvalue=2.632440670224516e-14)"
      ]
     },
     "execution_count": 28,
     "metadata": {},
     "output_type": "execute_result"
    }
   ],
   "source": [
    "# Kruskal-Wallis Test for the various movie categories:\n",
    "\n",
    "kw_result = stats.kruskal(*ratings.values())\n",
    "kw_result"
   ]
  },
  {
   "cell_type": "code",
   "execution_count": 29,
   "id": "b3cd520a",
   "metadata": {},
   "outputs": [
    {
     "name": "stdout",
     "output_type": "stream",
     "text": [
      "p is less than alpha, reject null hypothesis\n"
     ]
    }
   ],
   "source": [
    "# If-else statement to interpret the p-value:\n",
    "\n",
    "if kw_result.pvalue < 0.05:\n",
    "    print('p is less than alpha, reject null hypothesis')\n",
    "    \n",
    "else:\n",
    "    print('p is greater than alpah, the null hypothesis is validated')"
   ]
  },
  {
   "cell_type": "markdown",
   "id": "c4be2d12",
   "metadata": {},
   "source": [
    "## ***Final Conclusion:***\n",
    "\n",
    "p = 3.37 x 10 e-30\n",
    "alpha = 0.05\n",
    "\n",
    "p is significantly smaller than alpha meaning that we can reject the null hypothesis and support the alternative hypothesis; MPAA rating does affect a movie's revenue."
   ]
  },
  {
   "cell_type": "code",
   "execution_count": 30,
   "id": "3efe49be",
   "metadata": {},
   "outputs": [],
   "source": [
    "# Import visualization libraries:\n",
    "\n",
    "import seaborn as sns\n",
    "import matplotlib.pyplot as plt"
   ]
  },
  {
   "cell_type": "code",
   "execution_count": 31,
   "id": "592c383e",
   "metadata": {},
   "outputs": [
    {
     "data": {
      "image/png": "[encoded data removed]",
      "text/plain": [
       "<Figure size 1080x720 with 1 Axes>"
      ]
     },
     "metadata": {
      "needs_background": "light"
     },
     "output_type": "display_data"
    }
   ],
   "source": [
    "fig, bp = plt.subplots(nrows=1, ncols =1, figsize= (15,10))\n",
    "bp = sns.barplot(data=df, x= 'certification', y = 'revenue');\n",
    "plt.title('Revenue by Certification (Rating)\\n', fontsize =24)\n",
    "plt.ylabel('Revenue (Millions)\\n\\n', fontsize=16);\n",
    "plt.xlabel('\\n\\nCertification (Rating)', fontsize=16);\n",
    "plt.grid(axis='y')\n",
    "plt.xticks(rotation=45);"
   ]
  },
  {
   "cell_type": "markdown",
   "id": "8533f58c",
   "metadata": {},
   "source": [
    "#### ***Analysis:***\n",
    "\n",
    "From the graph we can see that G, PG and PG-13 movies gross the highest. The are the most inclusive in when it comes to age groups; they have the largest customer pool / potential for revenue. "
   ]
  },
  {
   "cell_type": "markdown",
   "id": "b2929588",
   "metadata": {},
   "source": [
    "### Question: Do movies released in 2020 earn less revenue than movies released in 2019?\n",
    "\n",
    "### How do the years compare for movie ratings?\n",
    "\n",
    "***1. State your Null Hypothesis and Alternative Hypothesis:***\n",
    "\n",
    "$H_0$: Movies released in 2020 do not earn less than movies released in 2019.\n",
    "\n",
    "$H_A$: Movies released in 2020 make significantly less than movies released in 2019.\n",
    "\n",
    "***2. Select the correct test according to the data type and number of samples.***\n",
    "\n",
    "    Type of comparison: 2 samples\n",
    "\n",
    "    Data type: Numeric\n",
    "\n",
    "    Hypothesis Test: 2 Sample T-Test"
   ]
  },
  {
   "cell_type": "markdown",
   "id": "3540b588",
   "metadata": {},
   "source": [
    "### Assumptions of the selected test:\n",
    "\n",
    "    No significant outliers\n",
    "    Normality\n",
    "    Equal Variance"
   ]
  },
  {
   "cell_type": "code",
   "execution_count": 32,
   "id": "987aa489",
   "metadata": {},
   "outputs": [],
   "source": [
    "# Define the two groups:\n",
    "\n",
    "rev19 = df19['revenue'].copy()\n",
    "\n",
    "rev20 = df20['revenue'].copy()"
   ]
  },
  {
   "cell_type": "markdown",
   "id": "6f1adeff",
   "metadata": {},
   "source": [
    "### Test for Significant Outliers"
   ]
  },
  {
   "cell_type": "code",
   "execution_count": 33,
   "id": "abedb18d",
   "metadata": {},
   "outputs": [
    {
     "data": {
      "text/plain": [
       "False    199\n",
       "True       5\n",
       "Name: revenue, dtype: int64"
      ]
     },
     "execution_count": 33,
     "metadata": {},
     "output_type": "execute_result"
    }
   ],
   "source": [
    "# Check for outliers using Z-scores:\n",
    "\n",
    "y19_outliers = np.abs(stats.zscore(rev19))>3\n",
    "y20_outliers = np.abs(stats.zscore(rev20))>3\n",
    "\n",
    "y19_outliers.value_counts()"
   ]
  },
  {
   "cell_type": "code",
   "execution_count": 34,
   "id": "ced5362e",
   "metadata": {},
   "outputs": [
    {
     "data": {
      "text/plain": [
       "False    85\n",
       "True      3\n",
       "Name: revenue, dtype: int64"
      ]
     },
     "execution_count": 34,
     "metadata": {},
     "output_type": "execute_result"
    }
   ],
   "source": [
    "y20_outliers.value_counts()"
   ]
  },
  {
   "cell_type": "code",
   "execution_count": 35,
   "id": "ea2c0af2",
   "metadata": {},
   "outputs": [
    {
     "data": {
      "text/plain": [
       "1        18377736.0\n",
       "2       404852543.0\n",
       "3         2078370.0\n",
       "4       365971656.0\n",
       "5         3364426.0\n",
       "           ...     \n",
       "4190     15894372.0\n",
       "4270      4165528.0\n",
       "4276    124652206.0\n",
       "4298     10000000.0\n",
       "4513      1091477.0\n",
       "Name: revenue, Length: 199, dtype: float64"
      ]
     },
     "execution_count": 35,
     "metadata": {},
     "output_type": "execute_result"
    }
   ],
   "source": [
    "# Removal of outliers:\n",
    "\n",
    "y19_final = rev19[-y19_outliers]\n",
    "y20_final = rev20[-y20_outliers]\n",
    "\n",
    "y19_final"
   ]
  },
  {
   "cell_type": "markdown",
   "id": "726ed3d4",
   "metadata": {},
   "source": [
    "### Normality Test"
   ]
  },
  {
   "cell_type": "code",
   "execution_count": 36,
   "id": "8a5643ec",
   "metadata": {},
   "outputs": [
    {
     "data": {
      "text/plain": [
       "NormaltestResult(statistic=165.27580439894007, pvalue=1.2906695933462028e-36)"
      ]
     },
     "execution_count": 36,
     "metadata": {},
     "output_type": "execute_result"
    }
   ],
   "source": [
    "# Normality test for 2019:\n",
    "\n",
    "NT2019 = stats.normaltest(y19_final)\n",
    "NT2019"
   ]
  },
  {
   "cell_type": "code",
   "execution_count": 37,
   "id": "0c448bf5",
   "metadata": {},
   "outputs": [
    {
     "data": {
      "text/plain": [
       "204"
      ]
     },
     "execution_count": 37,
     "metadata": {},
     "output_type": "execute_result"
    }
   ],
   "source": [
    "# Samle size for 2019 movies:\n",
    "\n",
    "len(rev19)"
   ]
  },
  {
   "cell_type": "code",
   "execution_count": 38,
   "id": "353949c9",
   "metadata": {},
   "outputs": [
    {
     "data": {
      "text/plain": [
       "NormaltestResult(statistic=68.71309496683632, pvalue=1.1998888307880135e-15)"
      ]
     },
     "execution_count": 38,
     "metadata": {},
     "output_type": "execute_result"
    }
   ],
   "source": [
    "# Normality test for 2019:\n",
    "\n",
    "NT2020 = stats.normaltest(y20_final)\n",
    "NT2020"
   ]
  },
  {
   "cell_type": "code",
   "execution_count": 39,
   "id": "296e64bb",
   "metadata": {},
   "outputs": [
    {
     "data": {
      "text/plain": [
       "88"
      ]
     },
     "execution_count": 39,
     "metadata": {},
     "output_type": "execute_result"
    }
   ],
   "source": [
    "# Sample size for 2020 movies:\n",
    "\n",
    "len(rev20)"
   ]
  },
  {
   "cell_type": "markdown",
   "id": "9f37c213",
   "metadata": {},
   "source": [
    "### ***Interpretation:***\n",
    "\n",
    "Revenue19$_p$:1.2907x10^{-36}\n",
    "\n",
    "Revenue20$_n$: 204\n",
    "\n",
    "Revenue20$_p$: 1.1999x10^{-15}\n",
    "\n",
    "Revenue20$_n$: 88\n",
    "\n",
    "p-values for both groups are far below 0.05, meaning that our data is NOT normally distributed. This is not an issue however, because we have sample sizes of 208 and 88, both of which are well above the 15 sample minimum requirement for an independent t test. We can proceed without normalized data."
   ]
  },
  {
   "cell_type": "code",
   "execution_count": 40,
   "id": "14d9b360",
   "metadata": {},
   "outputs": [
    {
     "data": {
      "text/plain": [
       "True"
      ]
     },
     "execution_count": 40,
     "metadata": {},
     "output_type": "execute_result"
    }
   ],
   "source": [
    "# Levene's test for equal variance:\n",
    "\n",
    "revenueLT = stats.levene(y19_final, y20_final)\n",
    "\n",
    "revenueLT.pvalue<0.05"
   ]
  },
  {
   "cell_type": "code",
   "execution_count": 41,
   "id": "96fbb418",
   "metadata": {},
   "outputs": [
    {
     "name": "stdout",
     "output_type": "stream",
     "text": [
      "The groups ***DO NOT*** have equal variance\n"
     ]
    }
   ],
   "source": [
    "# If-else to interpret the p-value:\n",
    "\n",
    "if revenueLT.pvalue < 0.05:\n",
    "    print('The groups ***DO NOT*** have equal variance')\n",
    "    \n",
    "else:\n",
    "    print('The groups ***DO*** have equal variance')"
   ]
  },
  {
   "cell_type": "markdown",
   "id": "6c2a4430",
   "metadata": {},
   "source": [
    "### ***Interpretation:***\n",
    "\n",
    "We will need to use a Welch's T test because the assumption of equal variance was inaccurate."
   ]
  },
  {
   "cell_type": "code",
   "execution_count": 42,
   "id": "1918654b",
   "metadata": {},
   "outputs": [
    {
     "data": {
      "text/plain": [
       "Ttest_indResult(statistic=3.9224934197391423, pvalue=0.00011041929698998684)"
      ]
     },
     "execution_count": 42,
     "metadata": {},
     "output_type": "execute_result"
    }
   ],
   "source": [
    "# Welch's T-Test because of unequal variance:\n",
    "\n",
    "revenueWTT = stats.ttest_ind(y19_final, y20_final, equal_var = False)\n",
    "revenueWTT"
   ]
  },
  {
   "cell_type": "code",
   "execution_count": 43,
   "id": "1b0d2d3b",
   "metadata": {},
   "outputs": [
    {
     "name": "stdout",
     "output_type": "stream",
     "text": [
      "False\n"
     ]
    }
   ],
   "source": [
    "# Interpretation of final pvalue:\n",
    "\n",
    "# Check for high significance : \n",
    "\n",
    "print(revenueWTT.pvalue<0.0001)"
   ]
  },
  {
   "cell_type": "markdown",
   "id": "e894dd1b",
   "metadata": {},
   "source": [
    "## ***Final Conclusion:***\n",
    "\n",
    "p is less than alpha so we will reject the null hypothesis , that states that \"Movies released in 2020 do not earn less than movies released in 2019.\""
   ]
  },
  {
   "cell_type": "code",
   "execution_count": 44,
   "id": "a10ff6c4",
   "metadata": {},
   "outputs": [
    {
     "data": {
      "text/plain": [
       "6     47078545.0\n",
       "18     2982559.0\n",
       "25      709452.0\n",
       "32    39238300.0\n",
       "35     7060384.0\n",
       "Name: revenue, dtype: float64"
      ]
     },
     "execution_count": 44,
     "metadata": {},
     "output_type": "execute_result"
    }
   ],
   "source": [
    "y20_final.head()"
   ]
  },
  {
   "cell_type": "code",
   "execution_count": 45,
   "id": "7c22ec6e",
   "metadata": {},
   "outputs": [
    {
     "data": {
      "text/plain": [
       "Text(0.5, 0, '\\n2020 Movies')"
      ]
     },
     "execution_count": 45,
     "metadata": {},
     "output_type": "execute_result"
    },
    {
     "data": {
      "image/png": "[encoded data removed]",
      "text/plain": [
       "<Figure size 864x576 with 2 Axes>"
      ]
     },
     "metadata": {
      "needs_background": "light"
     },
     "output_type": "display_data"
    }
   ],
   "source": [
    "fig, axes = plt.subplots(nrows = 1, ncols = 2, sharey = True, figsize = (12,8))\n",
    "\n",
    "a = sns.barplot(data = df19, y = 'revenue', ax= axes[0], color = 'orange', alpha =.6);\n",
    "b = sns.barplot(data = df20, y = 'revenue', ax = axes[1], color = 'blue');\n",
    "plt.xlabel('\\n2020 Movies', fontsize = 16);\n",
    "plt.xlabel('\\n2020 Movies', fontsize = 16)"
   ]
  },
  {
   "cell_type": "markdown",
   "id": "5df68f8c",
   "metadata": {},
   "source": [
    "### ***Analysis:***\n",
    "\n",
    "Movies released in 2020 make significantly less than movies released a year earlier in 2019. This may be due, in-part, to the COVID 19 pandemic which spawned curfews, and theater closures nationwide."
   ]
  },
  {
   "cell_type": "markdown",
   "id": "2ccdedcc",
   "metadata": {},
   "source": [
    "### Question: Do movies that are over 2.5 hours long earn more revenue than movies that are 1.5 hours long (or less)?\n",
    "\n",
    "\n",
    "***1. State your Null Hypothesis and Alternative Hypothesis:***\n",
    "\n",
    "$H_0$: Movies that are over 2.5 hours do not make more revenue than movis that are 1.5 hours or less. \n",
    "\n",
    "$H_A$: Movies that are over 2.5 hours do make more revenue than movies that are 1.5 hours or less. \n",
    "\n",
    "***2. Select the correct test according to the data type and number of samples.***\n",
    "\n",
    "    Type of comparison: 2 samples\n",
    "\n",
    "    Data type: Numeric\n",
    "\n",
    "    Hypothesis Test: 2 Sample T-Test"
   ]
  },
  {
   "cell_type": "markdown",
   "id": "f209ac0a",
   "metadata": {},
   "source": [
    "### Assumptions of the selected test:\n",
    "\n",
    "    No significant outliers\n",
    "    Equal variance\n",
    "    Normality"
   ]
  },
  {
   "cell_type": "code",
   "execution_count": 46,
   "id": "19e86239",
   "metadata": {},
   "outputs": [],
   "source": [
    "# Define the two groups:\n",
    "\n",
    "required_columns = ['revenue']\n",
    "\n",
    "hours25 = df['runtime'] >= 2.5\n",
    "hours15 = df['runtime'] <= 1.5\n",
    "\n",
    "movies15 = df.loc[hours15, required_columns].copy()\n",
    "movies25 = df.loc[hours25, required_columns].copy()"
   ]
  },
  {
   "cell_type": "markdown",
   "id": "dd71d5b5",
   "metadata": {},
   "source": [
    "### Test for Significant Outliers"
   ]
  },
  {
   "cell_type": "code",
   "execution_count": 47,
   "id": "750fcb82",
   "metadata": {},
   "outputs": [
    {
     "data": {
      "text/plain": [
       "revenue\n",
       "False      1\n",
       "dtype: int64"
      ]
     },
     "execution_count": 47,
     "metadata": {},
     "output_type": "execute_result"
    }
   ],
   "source": [
    "# Check for outliers using Z-scores:\n",
    "\n",
    "m15_outliers = np.abs(stats.zscore(movies15))>3\n",
    "m25_outliers = np.abs(stats.zscore(movies25))>3\n",
    "\n",
    "m15_outliers.value_counts()"
   ]
  },
  {
   "cell_type": "code",
   "execution_count": 48,
   "id": "1b7842aa",
   "metadata": {},
   "outputs": [],
   "source": [
    "# Removal of outliers:\n",
    "\n",
    "m15_final = movies15[-m15_outliers]\n",
    "m25_final = movies25[-m25_outliers]"
   ]
  },
  {
   "cell_type": "markdown",
   "id": "5e5b74ed",
   "metadata": {},
   "source": [
    "### Normality Test"
   ]
  },
  {
   "cell_type": "code",
   "execution_count": 49,
   "id": "4e2cc0b8",
   "metadata": {},
   "outputs": [
    {
     "data": {
      "text/plain": [
       "1"
      ]
     },
     "execution_count": 49,
     "metadata": {},
     "output_type": "execute_result"
    }
   ],
   "source": [
    "# Sample size for movies with 1.5 hour runtimes:\n",
    "\n",
    "len(m15_final)"
   ]
  },
  {
   "cell_type": "code",
   "execution_count": 50,
   "id": "4e8880d4",
   "metadata": {},
   "outputs": [
    {
     "data": {
      "text/plain": [
       "291"
      ]
     },
     "execution_count": 50,
     "metadata": {},
     "output_type": "execute_result"
    }
   ],
   "source": [
    "#Sample size for movies with 2.5 hour runtimes:\n",
    "\n",
    "len(m25_final)"
   ]
  }
 ],
 "metadata": {
  "kernelspec": {
   "display_name": "Python (dojo-env)",
   "language": "python",
   "name": "dojo-env"
  },
  "language_info": {
   "codemirror_mode": {
    "name": "ipython",
    "version": 3
   },
   "file_extension": ".py",
   "mimetype": "text/x-python",
   "name": "python",
   "nbconvert_exporter": "python",
   "pygments_lexer": "ipython3",
   "version": "3.7.12"
  },
  "toc": {
   "base_numbering": 1,
   "nav_menu": {},
   "number_sections": true,
   "sideBar": true,
   "skip_h1_title": false,
   "title_cell": "Table of Contents",
   "title_sidebar": "Contents",
   "toc_cell": false,
   "toc_position": {},
   "toc_section_display": true,
   "toc_window_display": false
  }
 },
 "nbformat": 4,
 "nbformat_minor": 5
}
