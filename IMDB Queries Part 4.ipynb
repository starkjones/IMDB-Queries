{
 "cells": [
  {
   "cell_type": "markdown",
   "id": "b9a1db18",
   "metadata": {},
   "source": [
    "## Hypothesis Testing"
   ]
  },
  {
   "cell_type": "code",
   "execution_count": 82,
   "id": "1fd1bacb",
   "metadata": {},
   "outputs": [],
   "source": [
    "# Import Libraries:\n",
    "\n",
    "import pandas as pd\n",
    "import numpy as py\n",
    "import tmdbsimple as tmdb"
   ]
  },
  {
   "cell_type": "code",
   "execution_count": 83,
   "id": "b8d890e5",
   "metadata": {},
   "outputs": [
    {
     "data": {
      "text/plain": [
       "dict_keys(['api-key'])"
      ]
     },
     "execution_count": 83,
     "metadata": {},
     "output_type": "execute_result"
    }
   ],
   "source": [
    "import json\n",
    "with open('/Users/jnate/.secret/tmdb_api.json', 'r') as f:\n",
    "    login = json.load(f)\n",
    "#Display the keys of the loaded dict:\n",
    "login.keys()"
   ]
  },
  {
   "cell_type": "code",
   "execution_count": 84,
   "id": "570c6a5d",
   "metadata": {},
   "outputs": [],
   "source": [
    "# Load API key:\n",
    "\n",
    "tmdb.API_KEY =  login['api-key']"
   ]
  },
  {
   "cell_type": "code",
   "execution_count": 85,
   "id": "55bafc1b",
   "metadata": {},
   "outputs": [],
   "source": [
    "# Load JSON files:\n",
    "\n",
    "with open('Data\\\\tmdb_api_results_2019.json') as y1:\n",
    "    jsonfile1 = json.load(y1)\n",
    "\n",
    "with open('Data\\\\tmdb_api_results_2020.json') as y2:\n",
    "    jsonfile2 = json.load(y2)"
   ]
  },
  {
   "cell_type": "code",
   "execution_count": 86,
   "id": "ead9f4cb",
   "metadata": {},
   "outputs": [
    {
     "data": {
      "text/html": [
       "<div>\n",
       "<style scoped>\n",
       "    .dataframe tbody tr th:only-of-type {\n",
       "        vertical-align: middle;\n",
       "    }\n",
       "\n",
       "    .dataframe tbody tr th {\n",
       "        vertical-align: top;\n",
       "    }\n",
       "\n",
       "    .dataframe thead th {\n",
       "        text-align: right;\n",
       "    }\n",
       "</style>\n",
       "<table border=\"1\" class=\"dataframe\">\n",
       "  <thead>\n",
       "    <tr style=\"text-align: right;\">\n",
       "      <th></th>\n",
       "      <th>imdb_id</th>\n",
       "      <th>revenue</th>\n",
       "      <th>budget</th>\n",
       "      <th>certification</th>\n",
       "    </tr>\n",
       "  </thead>\n",
       "  <tbody>\n",
       "    <tr>\n",
       "      <th>0</th>\n",
       "      <td>0</td>\n",
       "      <td>0.0</td>\n",
       "      <td>NaN</td>\n",
       "      <td>NR</td>\n",
       "    </tr>\n",
       "    <tr>\n",
       "      <th>1</th>\n",
       "      <td>tt0385887</td>\n",
       "      <td>18377736.0</td>\n",
       "      <td>26000000.0</td>\n",
       "      <td>R</td>\n",
       "    </tr>\n",
       "    <tr>\n",
       "      <th>2</th>\n",
       "      <td>tt0437086</td>\n",
       "      <td>404852543.0</td>\n",
       "      <td>170000000.0</td>\n",
       "      <td>PG-13</td>\n",
       "    </tr>\n",
       "    <tr>\n",
       "      <th>3</th>\n",
       "      <td>tt0441881</td>\n",
       "      <td>2078370.0</td>\n",
       "      <td>23934823.0</td>\n",
       "      <td>R</td>\n",
       "    </tr>\n",
       "    <tr>\n",
       "      <th>4</th>\n",
       "      <td>tt0448115</td>\n",
       "      <td>365971656.0</td>\n",
       "      <td>80000000.0</td>\n",
       "      <td>PG-13</td>\n",
       "    </tr>\n",
       "  </tbody>\n",
       "</table>\n",
       "</div>"
      ],
      "text/plain": [
       "     imdb_id      revenue       budget certification\n",
       "0          0          0.0          NaN            NR\n",
       "1  tt0385887   18377736.0   26000000.0             R\n",
       "2  tt0437086  404852543.0  170000000.0         PG-13\n",
       "3  tt0441881    2078370.0   23934823.0             R\n",
       "4  tt0448115  365971656.0   80000000.0         PG-13"
      ]
     },
     "execution_count": 86,
     "metadata": {},
     "output_type": "execute_result"
    }
   ],
   "source": [
    "# Convert separate years to pandas DataFrames:\n",
    "\n",
    "year2019 = pd.DataFrame(jsonfile1)\n",
    "\n",
    "# Reduce the DataFrame down to 4 columns:\n",
    "year2019 = year2019[['imdb_id', 'revenue', 'budget', 'certification']]\n",
    "\n",
    "# Imputation:\n",
    "\n",
    "year2019['certification'].replace({'' : 'NR', '' : 'NR'}, inplace = True);\n",
    "\n",
    "year2019['certification'].fillna('NR', inplace =True)\n",
    "\n",
    "year2019['revenue'].fillna(0.0, inplace =True)\n",
    "\n",
    "# Check:\n",
    "\n",
    "year2019.head()"
   ]
  },
  {
   "cell_type": "code",
   "execution_count": 87,
   "id": "c1becb37",
   "metadata": {},
   "outputs": [
    {
     "data": {
      "text/html": [
       "<div>\n",
       "<style scoped>\n",
       "    .dataframe tbody tr th:only-of-type {\n",
       "        vertical-align: middle;\n",
       "    }\n",
       "\n",
       "    .dataframe tbody tr th {\n",
       "        vertical-align: top;\n",
       "    }\n",
       "\n",
       "    .dataframe thead th {\n",
       "        text-align: right;\n",
       "    }\n",
       "</style>\n",
       "<table border=\"1\" class=\"dataframe\">\n",
       "  <thead>\n",
       "    <tr style=\"text-align: right;\">\n",
       "      <th></th>\n",
       "      <th>imdb_id</th>\n",
       "      <th>revenue</th>\n",
       "      <th>budget</th>\n",
       "      <th>certification</th>\n",
       "    </tr>\n",
       "  </thead>\n",
       "  <tbody>\n",
       "    <tr>\n",
       "      <th>0</th>\n",
       "      <td>0</td>\n",
       "      <td>0.0</td>\n",
       "      <td>NaN</td>\n",
       "      <td>NR</td>\n",
       "    </tr>\n",
       "    <tr>\n",
       "      <th>1</th>\n",
       "      <td>tt0062336</td>\n",
       "      <td>0.0</td>\n",
       "      <td>0.0</td>\n",
       "      <td>NR</td>\n",
       "    </tr>\n",
       "    <tr>\n",
       "      <th>2</th>\n",
       "      <td>tt0093119</td>\n",
       "      <td>0.0</td>\n",
       "      <td>7500000.0</td>\n",
       "      <td>NR</td>\n",
       "    </tr>\n",
       "    <tr>\n",
       "      <th>3</th>\n",
       "      <td>tt0805647</td>\n",
       "      <td>26900000.0</td>\n",
       "      <td>0.0</td>\n",
       "      <td>PG</td>\n",
       "    </tr>\n",
       "    <tr>\n",
       "      <th>4</th>\n",
       "      <td>tt0920462</td>\n",
       "      <td>106045.0</td>\n",
       "      <td>0.0</td>\n",
       "      <td>R</td>\n",
       "    </tr>\n",
       "  </tbody>\n",
       "</table>\n",
       "</div>"
      ],
      "text/plain": [
       "     imdb_id     revenue     budget certification\n",
       "0          0         0.0        NaN            NR\n",
       "1  tt0062336         0.0        0.0            NR\n",
       "2  tt0093119         0.0  7500000.0            NR\n",
       "3  tt0805647  26900000.0        0.0            PG\n",
       "4  tt0920462    106045.0        0.0             R"
      ]
     },
     "execution_count": 87,
     "metadata": {},
     "output_type": "execute_result"
    }
   ],
   "source": [
    "# Convert separate years to pandas DataFrames:\n",
    "\n",
    "year2020 = pd.DataFrame(jsonfile2)\n",
    "\n",
    "# Reduce the DataFrame down to 4 columns:\n",
    "year2020 = year2020[['imdb_id', 'revenue', 'budget', 'certification']]\n",
    "\n",
    "# Imputation:\n",
    "\n",
    "year2020['certification'].replace({'' : 'NR', '' : 'NR'}, inplace = True);\n",
    "\n",
    "year2020['certification'].fillna('NR', inplace =True)\n",
    "\n",
    "year2020['revenue'].fillna(0.0, inplace =True)\n",
    "\n",
    "# Check:\n",
    "\n",
    "year2020.head()"
   ]
  },
  {
   "cell_type": "code",
   "execution_count": 88,
   "id": "2250dc8b",
   "metadata": {},
   "outputs": [
    {
     "data": {
      "text/html": [
       "<div>\n",
       "<style scoped>\n",
       "    .dataframe tbody tr th:only-of-type {\n",
       "        vertical-align: middle;\n",
       "    }\n",
       "\n",
       "    .dataframe tbody tr th {\n",
       "        vertical-align: top;\n",
       "    }\n",
       "\n",
       "    .dataframe thead th {\n",
       "        text-align: right;\n",
       "    }\n",
       "</style>\n",
       "<table border=\"1\" class=\"dataframe\">\n",
       "  <thead>\n",
       "    <tr style=\"text-align: right;\">\n",
       "      <th></th>\n",
       "      <th>imdb_id</th>\n",
       "      <th>revenue</th>\n",
       "      <th>budget</th>\n",
       "      <th>certification</th>\n",
       "    </tr>\n",
       "  </thead>\n",
       "  <tbody>\n",
       "    <tr>\n",
       "      <th>1</th>\n",
       "      <td>tt0062336</td>\n",
       "      <td>0.0</td>\n",
       "      <td>0.0</td>\n",
       "      <td>NR</td>\n",
       "    </tr>\n",
       "    <tr>\n",
       "      <th>2</th>\n",
       "      <td>tt0093119</td>\n",
       "      <td>0.0</td>\n",
       "      <td>7500000.0</td>\n",
       "      <td>NR</td>\n",
       "    </tr>\n",
       "    <tr>\n",
       "      <th>3</th>\n",
       "      <td>tt0805647</td>\n",
       "      <td>26900000.0</td>\n",
       "      <td>0.0</td>\n",
       "      <td>PG</td>\n",
       "    </tr>\n",
       "    <tr>\n",
       "      <th>4</th>\n",
       "      <td>tt0920462</td>\n",
       "      <td>106045.0</td>\n",
       "      <td>0.0</td>\n",
       "      <td>R</td>\n",
       "    </tr>\n",
       "    <tr>\n",
       "      <th>5</th>\n",
       "      <td>tt0926132</td>\n",
       "      <td>0.0</td>\n",
       "      <td>0.0</td>\n",
       "      <td>NR</td>\n",
       "    </tr>\n",
       "    <tr>\n",
       "      <th>...</th>\n",
       "      <td>...</td>\n",
       "      <td>...</td>\n",
       "      <td>...</td>\n",
       "      <td>...</td>\n",
       "    </tr>\n",
       "    <tr>\n",
       "      <th>3713</th>\n",
       "      <td>tt9904004</td>\n",
       "      <td>0.0</td>\n",
       "      <td>0.0</td>\n",
       "      <td>NR</td>\n",
       "    </tr>\n",
       "    <tr>\n",
       "      <th>3714</th>\n",
       "      <td>tt9904802</td>\n",
       "      <td>0.0</td>\n",
       "      <td>0.0</td>\n",
       "      <td>NR</td>\n",
       "    </tr>\n",
       "    <tr>\n",
       "      <th>3715</th>\n",
       "      <td>tt9911196</td>\n",
       "      <td>0.0</td>\n",
       "      <td>0.0</td>\n",
       "      <td>NR</td>\n",
       "    </tr>\n",
       "    <tr>\n",
       "      <th>3716</th>\n",
       "      <td>tt9916190</td>\n",
       "      <td>0.0</td>\n",
       "      <td>0.0</td>\n",
       "      <td>NR</td>\n",
       "    </tr>\n",
       "    <tr>\n",
       "      <th>3717</th>\n",
       "      <td>tt9916362</td>\n",
       "      <td>0.0</td>\n",
       "      <td>0.0</td>\n",
       "      <td>NR</td>\n",
       "    </tr>\n",
       "  </tbody>\n",
       "</table>\n",
       "<p>3717 rows × 4 columns</p>\n",
       "</div>"
      ],
      "text/plain": [
       "        imdb_id     revenue     budget certification\n",
       "1     tt0062336         0.0        0.0            NR\n",
       "2     tt0093119         0.0  7500000.0            NR\n",
       "3     tt0805647  26900000.0        0.0            PG\n",
       "4     tt0920462    106045.0        0.0             R\n",
       "5     tt0926132         0.0        0.0            NR\n",
       "...         ...         ...        ...           ...\n",
       "3713  tt9904004         0.0        0.0            NR\n",
       "3714  tt9904802         0.0        0.0            NR\n",
       "3715  tt9911196         0.0        0.0            NR\n",
       "3716  tt9916190         0.0        0.0            NR\n",
       "3717  tt9916362         0.0        0.0            NR\n",
       "\n",
       "[3717 rows x 4 columns]"
      ]
     },
     "execution_count": 88,
     "metadata": {},
     "output_type": "execute_result"
    }
   ],
   "source": [
    "# Remvoe NaN values:\n",
    "\n",
    "year2019.dropna(inplace = False)\n",
    "year2020.dropna(inplace = False)"
   ]
  },
  {
   "cell_type": "code",
   "execution_count": 89,
   "id": "9370432b",
   "metadata": {},
   "outputs": [
    {
     "data": {
      "text/html": [
       "<div>\n",
       "<style scoped>\n",
       "    .dataframe tbody tr th:only-of-type {\n",
       "        vertical-align: middle;\n",
       "    }\n",
       "\n",
       "    .dataframe tbody tr th {\n",
       "        vertical-align: top;\n",
       "    }\n",
       "\n",
       "    .dataframe thead th {\n",
       "        text-align: right;\n",
       "    }\n",
       "</style>\n",
       "<table border=\"1\" class=\"dataframe\">\n",
       "  <thead>\n",
       "    <tr style=\"text-align: right;\">\n",
       "      <th></th>\n",
       "      <th>imdb_id</th>\n",
       "      <th>revenue</th>\n",
       "      <th>budget</th>\n",
       "      <th>certification</th>\n",
       "    </tr>\n",
       "  </thead>\n",
       "  <tbody>\n",
       "    <tr>\n",
       "      <th>0</th>\n",
       "      <td>0</td>\n",
       "      <td>0.0</td>\n",
       "      <td>NaN</td>\n",
       "      <td>NR</td>\n",
       "    </tr>\n",
       "    <tr>\n",
       "      <th>1</th>\n",
       "      <td>tt0385887</td>\n",
       "      <td>18377736.0</td>\n",
       "      <td>26000000.0</td>\n",
       "      <td>R</td>\n",
       "    </tr>\n",
       "    <tr>\n",
       "      <th>2</th>\n",
       "      <td>tt0437086</td>\n",
       "      <td>404852543.0</td>\n",
       "      <td>170000000.0</td>\n",
       "      <td>PG-13</td>\n",
       "    </tr>\n",
       "    <tr>\n",
       "      <th>3</th>\n",
       "      <td>tt0441881</td>\n",
       "      <td>2078370.0</td>\n",
       "      <td>23934823.0</td>\n",
       "      <td>R</td>\n",
       "    </tr>\n",
       "    <tr>\n",
       "      <th>4</th>\n",
       "      <td>tt0448115</td>\n",
       "      <td>365971656.0</td>\n",
       "      <td>80000000.0</td>\n",
       "      <td>PG-13</td>\n",
       "    </tr>\n",
       "  </tbody>\n",
       "</table>\n",
       "</div>"
      ],
      "text/plain": [
       "     imdb_id      revenue       budget certification\n",
       "0          0          0.0          NaN            NR\n",
       "1  tt0385887   18377736.0   26000000.0             R\n",
       "2  tt0437086  404852543.0  170000000.0         PG-13\n",
       "3  tt0441881    2078370.0   23934823.0             R\n",
       "4  tt0448115  365971656.0   80000000.0         PG-13"
      ]
     },
     "execution_count": 89,
     "metadata": {},
     "output_type": "execute_result"
    }
   ],
   "source": [
    "# Combined DataFrame:\n",
    "\n",
    "# Combine / Concatinate separate DataFrames: \n",
    "\n",
    "combined = [year2019, year2020]\n",
    "\n",
    "df = pd.concat(combined)\n",
    "\n",
    "df.head()"
   ]
  },
  {
   "cell_type": "code",
   "execution_count": 90,
   "id": "095fe919",
   "metadata": {},
   "outputs": [],
   "source": [
    "# Removing movies with 0 revenue: \n",
    "\n",
    "no_revenue = df.loc[df['revenue']==0]\n",
    "\n",
    "# df[~no_revenue]"
   ]
  },
  {
   "cell_type": "code",
   "execution_count": 91,
   "id": "506c4596",
   "metadata": {},
   "outputs": [
    {
     "data": {
      "text/html": [
       "<div>\n",
       "<style scoped>\n",
       "    .dataframe tbody tr th:only-of-type {\n",
       "        vertical-align: middle;\n",
       "    }\n",
       "\n",
       "    .dataframe tbody tr th {\n",
       "        vertical-align: top;\n",
       "    }\n",
       "\n",
       "    .dataframe thead th {\n",
       "        text-align: right;\n",
       "    }\n",
       "</style>\n",
       "<table border=\"1\" class=\"dataframe\">\n",
       "  <thead>\n",
       "    <tr style=\"text-align: right;\">\n",
       "      <th></th>\n",
       "      <th>imdb_id</th>\n",
       "      <th>revenue</th>\n",
       "      <th>budget</th>\n",
       "      <th>certification</th>\n",
       "    </tr>\n",
       "  </thead>\n",
       "  <tbody>\n",
       "    <tr>\n",
       "      <th>1</th>\n",
       "      <td>tt0385887</td>\n",
       "      <td>18377736.0</td>\n",
       "      <td>26000000.0</td>\n",
       "      <td>R</td>\n",
       "    </tr>\n",
       "    <tr>\n",
       "      <th>2</th>\n",
       "      <td>tt0437086</td>\n",
       "      <td>404852543.0</td>\n",
       "      <td>170000000.0</td>\n",
       "      <td>PG-13</td>\n",
       "    </tr>\n",
       "    <tr>\n",
       "      <th>3</th>\n",
       "      <td>tt0441881</td>\n",
       "      <td>2078370.0</td>\n",
       "      <td>23934823.0</td>\n",
       "      <td>R</td>\n",
       "    </tr>\n",
       "    <tr>\n",
       "      <th>4</th>\n",
       "      <td>tt0448115</td>\n",
       "      <td>365971656.0</td>\n",
       "      <td>80000000.0</td>\n",
       "      <td>PG-13</td>\n",
       "    </tr>\n",
       "    <tr>\n",
       "      <th>5</th>\n",
       "      <td>tt0783640</td>\n",
       "      <td>3364426.0</td>\n",
       "      <td>20000000.0</td>\n",
       "      <td>R</td>\n",
       "    </tr>\n",
       "  </tbody>\n",
       "</table>\n",
       "</div>"
      ],
      "text/plain": [
       "     imdb_id      revenue       budget certification\n",
       "1  tt0385887   18377736.0   26000000.0             R\n",
       "2  tt0437086  404852543.0  170000000.0         PG-13\n",
       "3  tt0441881    2078370.0   23934823.0             R\n",
       "4  tt0448115  365971656.0   80000000.0         PG-13\n",
       "5  tt0783640    3364426.0   20000000.0             R"
      ]
     },
     "execution_count": 91,
     "metadata": {},
     "output_type": "execute_result"
    }
   ],
   "source": [
    "# Excluding titles with a budget of 0. \n",
    "\n",
    "budget = df.loc[df['budget'].copy() != 0]\n",
    "\n",
    "df = budget\n",
    "\n",
    "# Excluding titles with 0 revenue:\n",
    "\n",
    "revenue = df.loc[df['revenue'].copy() != 0]\n",
    "\n",
    "df = revenue\n",
    "\n",
    "df.head()"
   ]
  },
  {
   "cell_type": "code",
   "execution_count": 92,
   "id": "22287a8f",
   "metadata": {},
   "outputs": [],
   "source": [
    "# Exporting the final Data Frame as csv:\n",
    "\n",
    "df.to_csv(\"Data/year2019_2020.csv.gz\",compression='gzip',index=False)"
   ]
  },
  {
   "cell_type": "code",
   "execution_count": 93,
   "id": "c3810152",
   "metadata": {},
   "outputs": [
    {
     "data": {
      "text/plain": [
       "NR       118\n",
       "R         84\n",
       "PG-13     54\n",
       "PG        35\n",
       "G          4\n",
       "NC-17      1\n",
       "Name: certification, dtype: int64"
      ]
     },
     "execution_count": 93,
     "metadata": {},
     "output_type": "execute_result"
    }
   ],
   "source": [
    "df['certification'].value_counts()"
   ]
  },
  {
   "cell_type": "markdown",
   "id": "d72ef4f5",
   "metadata": {},
   "source": [
    "### Question: Does the MPAA rating of a movie (G/PG/PG-13/R) affect how much revenue the movie generates?"
   ]
  },
  {
   "cell_type": "markdown",
   "id": "7c643654",
   "metadata": {},
   "source": [
    "***1. State your Null Hypothesis and Alternative Hypothesis:***\n",
    "\n",
    "$H_0$: MPAA rating does not affect a movie's revenue.\n",
    "\n",
    "$H_A$: MPAA does affect a movie's revenue.\n",
    "\n",
    "***2. Select the correct test according to the data type and number of samples.***\n",
    "\n",
    "    Type of comparison: more than 2 samples\n",
    "\n",
    "    Data type: Numeric\n",
    "\n",
    "    Hypothesis Test: ANOVA and/or Tukey"
   ]
  },
  {
   "cell_type": "markdown",
   "id": "1bc12852",
   "metadata": {},
   "source": [
    "### Assumptions of the selected test:\n",
    "\n",
    "    No significant outliers\n",
    "    Equal variance\n",
    "    Normality"
   ]
  },
  {
   "cell_type": "code",
   "execution_count": 94,
   "id": "74de9910",
   "metadata": {},
   "outputs": [
    {
     "data": {
      "text/plain": [
       "dict_keys(['R', 'PG-13', 'NR', 'NC-17', 'PG', 'G'])"
      ]
     },
     "execution_count": 94,
     "metadata": {},
     "output_type": "execute_result"
    }
   ],
   "source": [
    "# Create dictionary for the various regions:\n",
    "\n",
    "ratings = {}\n",
    "\n",
    "# Loop through column to get the unique designations:\n",
    "\n",
    "for i in df['certification'].unique():\n",
    "    # Get series for group and rename:\n",
    "    data = df.loc[df['certification']==i, 'revenue'].copy()\n",
    "    \n",
    "    # Append dictionary:\n",
    "    ratings[i] = data\n",
    "ratings.keys()"
   ]
  },
  {
   "cell_type": "code",
   "execution_count": 95,
   "id": "0a9c6436",
   "metadata": {},
   "outputs": [],
   "source": [
    "# # Removing certifications with n < 3 observations \n",
    "\n",
    "# del ratings['NC-17']\n",
    "\n",
    "# ratings.keys()"
   ]
  },
  {
   "cell_type": "code",
   "execution_count": 96,
   "id": "984f3b07",
   "metadata": {},
   "outputs": [
    {
     "name": "stdout",
     "output_type": "stream",
     "text": [
      "There were 1 outliers in the R group.\n",
      "There were 1 outliers in the PG-13 group.\n",
      "There were 2 outliers in the NR group.\n",
      "There were 0 outliers in the NC-17 group.\n",
      "There were 2 outliers in the PG group.\n",
      "There were 0 outliers in the G group.\n"
     ]
    }
   ],
   "source": [
    "import numpy as np\n",
    "from scipy import stats\n",
    "\n",
    "# Check for significant outliers:\n",
    "\n",
    "for rating_name, revenue_df in ratings.items():\n",
    "    # Identify outliers:\n",
    "    outliers = np.abs(stats.zscore(revenue_df))>3\n",
    "    \n",
    "    # Outliers per region:\n",
    "    print(f\"There were {outliers.sum()} outliers in the {rating_name} group.\")\n",
    "    \n",
    "    # Remove the outliers from dat and overwrite teh region dictionary:\n",
    "    revenue_df = revenue_df[~outliers]\n",
    "    \n",
    "    ratings[rating_name] = revenue_df"
   ]
  },
  {
   "cell_type": "code",
   "execution_count": 97,
   "id": "1e1bd7ed",
   "metadata": {},
   "outputs": [
    {
     "name": "stdout",
     "output_type": "stream",
     "text": [
      "R : 83\n",
      "PG-13 : 53\n",
      "NR : 116\n",
      "NC-17 : 1\n",
      "PG : 33\n",
      "G : 4\n"
     ]
    }
   ],
   "source": [
    "# Certification n value:\n",
    "\n",
    "for certification, n_value in ratings.items():\n",
    "    print(certification, \":\", len(n_value))"
   ]
  },
  {
   "cell_type": "code",
   "execution_count": 98,
   "id": "152e0f11",
   "metadata": {
    "scrolled": true
   },
   "outputs": [
    {
     "data": {
      "text/html": [
       "<div>\n",
       "<style scoped>\n",
       "    .dataframe tbody tr th:only-of-type {\n",
       "        vertical-align: middle;\n",
       "    }\n",
       "\n",
       "    .dataframe tbody tr th {\n",
       "        vertical-align: top;\n",
       "    }\n",
       "\n",
       "    .dataframe thead th {\n",
       "        text-align: right;\n",
       "    }\n",
       "</style>\n",
       "<table border=\"1\" class=\"dataframe\">\n",
       "  <thead>\n",
       "    <tr style=\"text-align: right;\">\n",
       "      <th></th>\n",
       "      <th>certification</th>\n",
       "      <th>n</th>\n",
       "      <th>p</th>\n",
       "      <th>significance?</th>\n",
       "    </tr>\n",
       "  </thead>\n",
       "  <tbody>\n",
       "    <tr>\n",
       "      <th>0</th>\n",
       "      <td>R</td>\n",
       "      <td>83</td>\n",
       "      <td>2.167157e-12</td>\n",
       "      <td>True</td>\n",
       "    </tr>\n",
       "    <tr>\n",
       "      <th>1</th>\n",
       "      <td>PG-13</td>\n",
       "      <td>53</td>\n",
       "      <td>1.397880e-09</td>\n",
       "      <td>True</td>\n",
       "    </tr>\n",
       "    <tr>\n",
       "      <th>2</th>\n",
       "      <td>NR</td>\n",
       "      <td>116</td>\n",
       "      <td>1.363012e-15</td>\n",
       "      <td>True</td>\n",
       "    </tr>\n",
       "    <tr>\n",
       "      <th>3</th>\n",
       "      <td>NC-17</td>\n",
       "      <td>n/a</td>\n",
       "      <td>1.363012e-15</td>\n",
       "      <td>True</td>\n",
       "    </tr>\n",
       "    <tr>\n",
       "      <th>4</th>\n",
       "      <td>PG</td>\n",
       "      <td>33</td>\n",
       "      <td>4.865038e-07</td>\n",
       "      <td>True</td>\n",
       "    </tr>\n",
       "    <tr>\n",
       "      <th>5</th>\n",
       "      <td>G</td>\n",
       "      <td>4</td>\n",
       "      <td>4.169193e-03</td>\n",
       "      <td>True</td>\n",
       "    </tr>\n",
       "  </tbody>\n",
       "</table>\n",
       "</div>"
      ],
      "text/plain": [
       "  certification    n             p  significance?\n",
       "0             R   83  2.167157e-12           True\n",
       "1         PG-13   53  1.397880e-09           True\n",
       "2            NR  116  1.363012e-15           True\n",
       "3         NC-17  n/a  1.363012e-15           True\n",
       "4            PG   33  4.865038e-07           True\n",
       "5             G    4  4.169193e-03           True"
      ]
     },
     "execution_count": 98,
     "metadata": {},
     "output_type": "execute_result"
    }
   ],
   "source": [
    "# Normality Test:\n",
    "\n",
    "# Normal test for each region to confirm that there are more than 20 samples in each group.\n",
    "norm_results = [['certification', 'n', 'p', 'significance?']]\n",
    "\n",
    "# Loop through each certification in the dictionary:\n",
    "\n",
    "for ratings_name, temp_df in ratings.items():\n",
    "    n = len(temp_df)\n",
    "    if n < 3:\n",
    "        n = 'n/a'\n",
    "    else:\n",
    "        \n",
    "        # Calculate normal test reuslts:\n",
    "        result = stats.shapiro(temp_df)\n",
    "        p = result.pvalue\n",
    "        n = len(temp_df)\n",
    "    \n",
    "    # Appred the normal results as list:\n",
    "    norm_results.append([ratings_name, n, p, p<.05])\n",
    "nrdf = pd.DataFrame(norm_results[1:], columns = norm_results[0])\n",
    "nrdf"
   ]
  },
  {
   "cell_type": "markdown",
   "id": "0c4454e8",
   "metadata": {},
   "source": [
    "#### Interpretation:\n",
    "\n",
    "p less than alpha for all categories - we do not have normal distributions. We must move on to selecting a non-parametric equivalent test. "
   ]
  },
  {
   "cell_type": "code",
   "execution_count": 99,
   "id": "072fc342",
   "metadata": {},
   "outputs": [
    {
     "data": {
      "text/plain": [
       "KruskalResult(statistic=73.92697971857233, pvalue=1.5577054948795198e-14)"
      ]
     },
     "execution_count": 99,
     "metadata": {},
     "output_type": "execute_result"
    }
   ],
   "source": [
    "# Kruskal-Wallis Test for the various movie categories:\n",
    "\n",
    "kw_result = stats.kruskal(*ratings.values())\n",
    "kw_result"
   ]
  },
  {
   "cell_type": "code",
   "execution_count": 100,
   "id": "b3cd520a",
   "metadata": {},
   "outputs": [
    {
     "name": "stdout",
     "output_type": "stream",
     "text": [
      "p is less than alpha, reject null hypothesis\n"
     ]
    }
   ],
   "source": [
    "# If-else statement to interpret the p-value:\n",
    "\n",
    "if kw_result.pvalue < 0.05:\n",
    "    print('p is less than alpha, reject null hypothesis')\n",
    "    \n",
    "else:\n",
    "    print('p is greater than alpah, the null hypothesis is validated')"
   ]
  },
  {
   "cell_type": "markdown",
   "id": "c4be2d12",
   "metadata": {},
   "source": [
    "### ***Interpretation:***\n",
    "\n",
    "p = 1.558 x 10 e-14\n",
    "alpha = 0.05\n",
    "\n",
    "p is significantly smaller than alpha meaning that we can reject the null hypothesis and support the alternative hypothesis; MPAA rating does affect a movie's revenue."
   ]
  },
  {
   "cell_type": "markdown",
   "id": "b2929588",
   "metadata": {},
   "source": [
    "### Question: Do movies released in 2020 earn less revenue than movies released in 2019?\n",
    "\n",
    "### How do the years compare for movie ratings?\n",
    "\n",
    "***1. State your Null Hypothesis and Alternative Hypothesis:***\n",
    "\n",
    "$H_0$: Movies released in 2020 do not earn less than movies released in 2019.\n",
    "\n",
    "$H_A$: Movies released in 2020 make significantly less than movies released in 2019.\n",
    "\n",
    "***2. Select the correct test according to the data type and number of samples.***\n",
    "\n",
    "    Type of comparison: 2 samples\n",
    "\n",
    "    Data type: Numeric\n",
    "\n",
    "    Hypothesis Test: 2 Sample T-Test"
   ]
  },
  {
   "cell_type": "markdown",
   "id": "3540b588",
   "metadata": {},
   "source": [
    "### Assumptions of the selected test:\n",
    "\n",
    "    No significant outliers\n",
    "    Normality\n",
    "    Equal Variance"
   ]
  },
  {
   "cell_type": "code",
   "execution_count": 101,
   "id": "987aa489",
   "metadata": {},
   "outputs": [
    {
     "data": {
      "text/html": [
       "<div>\n",
       "<style scoped>\n",
       "    .dataframe tbody tr th:only-of-type {\n",
       "        vertical-align: middle;\n",
       "    }\n",
       "\n",
       "    .dataframe tbody tr th {\n",
       "        vertical-align: top;\n",
       "    }\n",
       "\n",
       "    .dataframe thead th {\n",
       "        text-align: right;\n",
       "    }\n",
       "</style>\n",
       "<table border=\"1\" class=\"dataframe\">\n",
       "  <thead>\n",
       "    <tr style=\"text-align: right;\">\n",
       "      <th></th>\n",
       "      <th>revenue</th>\n",
       "    </tr>\n",
       "  </thead>\n",
       "  <tbody>\n",
       "    <tr>\n",
       "      <th>0</th>\n",
       "      <td>0.0</td>\n",
       "    </tr>\n",
       "    <tr>\n",
       "      <th>1</th>\n",
       "      <td>18377736.0</td>\n",
       "    </tr>\n",
       "    <tr>\n",
       "      <th>2</th>\n",
       "      <td>404852543.0</td>\n",
       "    </tr>\n",
       "    <tr>\n",
       "      <th>3</th>\n",
       "      <td>2078370.0</td>\n",
       "    </tr>\n",
       "    <tr>\n",
       "      <th>4</th>\n",
       "      <td>365971656.0</td>\n",
       "    </tr>\n",
       "    <tr>\n",
       "      <th>...</th>\n",
       "      <td>...</td>\n",
       "    </tr>\n",
       "    <tr>\n",
       "      <th>4672</th>\n",
       "      <td>0.0</td>\n",
       "    </tr>\n",
       "    <tr>\n",
       "      <th>4673</th>\n",
       "      <td>0.0</td>\n",
       "    </tr>\n",
       "    <tr>\n",
       "      <th>4674</th>\n",
       "      <td>0.0</td>\n",
       "    </tr>\n",
       "    <tr>\n",
       "      <th>4675</th>\n",
       "      <td>0.0</td>\n",
       "    </tr>\n",
       "    <tr>\n",
       "      <th>4676</th>\n",
       "      <td>0.0</td>\n",
       "    </tr>\n",
       "  </tbody>\n",
       "</table>\n",
       "<p>4677 rows × 1 columns</p>\n",
       "</div>"
      ],
      "text/plain": [
       "          revenue\n",
       "0             0.0\n",
       "1      18377736.0\n",
       "2     404852543.0\n",
       "3       2078370.0\n",
       "4     365971656.0\n",
       "...           ...\n",
       "4672          0.0\n",
       "4673          0.0\n",
       "4674          0.0\n",
       "4675          0.0\n",
       "4676          0.0\n",
       "\n",
       "[4677 rows x 1 columns]"
      ]
     },
     "execution_count": 101,
     "metadata": {},
     "output_type": "execute_result"
    }
   ],
   "source": [
    "# Define the two groups:\n",
    "\n",
    "# # required columns:\n",
    "\n",
    "# requiredcols = ['revenue']\n",
    "\n",
    "y19 = pd.DataFrame(year2019['revenue'].copy())\n",
    "y20 = pd.DataFrame(year2020['revenue'].copy())\n",
    "\n",
    "y19"
   ]
  },
  {
   "cell_type": "markdown",
   "id": "6f1adeff",
   "metadata": {},
   "source": [
    "### Test for significant outliers"
   ]
  },
  {
   "cell_type": "code",
   "execution_count": 102,
   "id": "abedb18d",
   "metadata": {},
   "outputs": [
    {
     "data": {
      "text/plain": [
       "revenue\n",
       "False      4645\n",
       "True         32\n",
       "dtype: int64"
      ]
     },
     "execution_count": 102,
     "metadata": {},
     "output_type": "execute_result"
    }
   ],
   "source": [
    "# Check for outliers using Z-scores:\n",
    "\n",
    "y19_outliers = np.abs(stats.zscore(y19))>3\n",
    "y20_outliers = np.abs(stats.zscore(y20))>3\n",
    "\n",
    "y19_outliers.value_counts()"
   ]
  },
  {
   "cell_type": "code",
   "execution_count": 103,
   "id": "ced5362e",
   "metadata": {},
   "outputs": [
    {
     "data": {
      "text/plain": [
       "revenue\n",
       "False      3701\n",
       "True         17\n",
       "dtype: int64"
      ]
     },
     "execution_count": 103,
     "metadata": {},
     "output_type": "execute_result"
    }
   ],
   "source": [
    "y20_outliers.value_counts()"
   ]
  },
  {
   "cell_type": "code",
   "execution_count": 104,
   "id": "ea2c0af2",
   "metadata": {},
   "outputs": [
    {
     "data": {
      "text/plain": [
       "revenue    \n",
       "0.0            4293\n",
       "3758846.0         1\n",
       "14454622.0        1\n",
       "13935410.0        1\n",
       "13601384.0        1\n",
       "               ... \n",
       "1000000.0         1\n",
       "989310.0          1\n",
       "968853.0          1\n",
       "929868.0          1\n",
       "216601214.0       1\n",
       "Length: 353, dtype: int64"
      ]
     },
     "execution_count": 104,
     "metadata": {},
     "output_type": "execute_result"
    }
   ],
   "source": [
    "# Removal of outliers:\n",
    "\n",
    "y19_final = y19[-y19_outliers]\n",
    "y20_final = y20[-y20_outliers]\n",
    "\n",
    "y19_final.value_counts()"
   ]
  },
  {
   "cell_type": "markdown",
   "id": "726ed3d4",
   "metadata": {},
   "source": [
    "### Normality Test"
   ]
  },
  {
   "cell_type": "code",
   "execution_count": 105,
   "id": "8a5643ec",
   "metadata": {},
   "outputs": [
    {
     "data": {
      "text/plain": [
       "NormaltestResult(statistic=array([nan]), pvalue=array([nan]))"
      ]
     },
     "execution_count": 105,
     "metadata": {},
     "output_type": "execute_result"
    }
   ],
   "source": [
    "# Normality test for 2019:\n",
    "\n",
    "NT2019 = stats.normaltest(y19_final)\n",
    "NT2019"
   ]
  },
  {
   "cell_type": "code",
   "execution_count": 106,
   "id": "353949c9",
   "metadata": {},
   "outputs": [
    {
     "data": {
      "text/plain": [
       "NormaltestResult(statistic=array([nan]), pvalue=array([nan]))"
      ]
     },
     "execution_count": 106,
     "metadata": {},
     "output_type": "execute_result"
    }
   ],
   "source": [
    "# Normality test for 2019:\n",
    "\n",
    "NT2020 = stats.normaltest(y20_final)\n",
    "NT2020"
   ]
  },
  {
   "cell_type": "markdown",
   "id": "3a56c8cc",
   "metadata": {},
   "source": [
    "### Question: Do some movie genres earn more revenue than others?\n",
    "\n",
    "***1. State your Null Hypothesis and Alternative Hypothesis:***\n",
    "\n",
    "$H_0$: genre classification does not play a significant role in move revenue.\n",
    "\n",
    "$H_A$: genre classification has a significant influence on revenue.\n",
    "\n",
    "***2. Select the correct test according to the data type and number of samples.***\n",
    "\n",
    "    Type of comparison: more than 2 samples\n",
    "\n",
    "    Data type: Numeric\n",
    "\n",
    "    Hypothesis Test: ANOVA and/or Tukey"
   ]
  },
  {
   "cell_type": "markdown",
   "id": "84313c27",
   "metadata": {},
   "source": [
    "### Assumptions of the selected test:\n",
    "\n",
    "    No significant outliers\n",
    "    Normality\n",
    "    Equal Variance"
   ]
  },
  {
   "cell_type": "code",
   "execution_count": 107,
   "id": "62587272",
   "metadata": {},
   "outputs": [
    {
     "data": {
      "text/plain": [
       "dict_keys(['R', 'PG-13', 'NR', 'NC-17', 'PG', 'G'])"
      ]
     },
     "execution_count": 107,
     "metadata": {},
     "output_type": "execute_result"
    }
   ],
   "source": [
    "# Create dictionary for the various regions:\n",
    "\n",
    "ratings = {}\n",
    "\n",
    "# Loop through column to get the unique designations:\n",
    "\n",
    "for i in df['certification'].unique():\n",
    "    # Get series for group and rename:\n",
    "    data = df.loc[df['certification']==i, 'revenue'].copy()\n",
    "    \n",
    "    # Append dictionary:\n",
    "    ratings[i] = data\n",
    "ratings.keys()"
   ]
  },
  {
   "cell_type": "code",
   "execution_count": 108,
   "id": "3dfff0cc",
   "metadata": {},
   "outputs": [
    {
     "name": "stdout",
     "output_type": "stream",
     "text": [
      "There were 1 outliers in the R group.\n",
      "There were 1 outliers in the PG-13 group.\n",
      "There were 2 outliers in the NR group.\n",
      "There were 0 outliers in the NC-17 group.\n",
      "There were 2 outliers in the PG group.\n",
      "There were 0 outliers in the G group.\n"
     ]
    }
   ],
   "source": [
    "# Check for significant outliers:\n",
    "\n",
    "for rating_name, revenue_df in ratings.items():\n",
    "    # Identify outliers:\n",
    "    outliers = np.abs(stats.zscore(revenue_df))>3\n",
    "    \n",
    "    # Outliers per region:\n",
    "    print(f\"There were {outliers.sum()} outliers in the {rating_name} group.\")\n",
    "    \n",
    "    # Remove the outliers from dat and overwrite teh region dictionary:\n",
    "    revenue_df = revenue_df[~outliers]\n",
    "    \n",
    "    ratings[rating_name] = revenue_df"
   ]
  },
  {
   "cell_type": "code",
   "execution_count": null,
   "id": "2b71e679",
   "metadata": {},
   "outputs": [],
   "source": []
  },
  {
   "cell_type": "code",
   "execution_count": null,
   "id": "354652ef",
   "metadata": {},
   "outputs": [],
   "source": []
  }
 ],
 "metadata": {
  "kernelspec": {
   "display_name": "Python (dojo-env)",
   "language": "python",
   "name": "dojo-env"
  },
  "language_info": {
   "codemirror_mode": {
    "name": "ipython",
    "version": 3
   },
   "file_extension": ".py",
   "mimetype": "text/x-python",
   "name": "python",
   "nbconvert_exporter": "python",
   "pygments_lexer": "ipython3",
   "version": "3.7.12"
  },
  "toc": {
   "base_numbering": 1,
   "nav_menu": {},
   "number_sections": true,
   "sideBar": true,
   "skip_h1_title": false,
   "title_cell": "Table of Contents",
   "title_sidebar": "Contents",
   "toc_cell": false,
   "toc_position": {},
   "toc_section_display": true,
   "toc_window_display": false
  }
 },
 "nbformat": 4,
 "nbformat_minor": 5
}
