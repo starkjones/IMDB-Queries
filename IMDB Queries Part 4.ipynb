{
 "cells": [
  {
   "cell_type": "markdown",
   "id": "b9a1db18",
   "metadata": {},
   "source": [
    "## Hypothesis Testing"
   ]
  },
  {
   "cell_type": "code",
   "execution_count": 21,
   "id": "1fd1bacb",
   "metadata": {},
   "outputs": [],
   "source": [
    "# Import Libraries:\n",
    "\n",
    "import pandas as pd\n",
    "import numpy as py\n",
    "import tmdbsimple as tmdb"
   ]
  },
  {
   "cell_type": "code",
   "execution_count": 22,
   "id": "b8d890e5",
   "metadata": {},
   "outputs": [
    {
     "data": {
      "text/plain": [
       "dict_keys(['api-key'])"
      ]
     },
     "execution_count": 22,
     "metadata": {},
     "output_type": "execute_result"
    }
   ],
   "source": [
    "import json\n",
    "with open('/Users/jnate/.secret/tmdb_api.json', 'r') as f:\n",
    "    login = json.load(f)\n",
    "#Display the keys of the loaded dict:\n",
    "login.keys()"
   ]
  },
  {
   "cell_type": "code",
   "execution_count": 23,
   "id": "570c6a5d",
   "metadata": {},
   "outputs": [],
   "source": [
    "# Load API key:\n",
    "\n",
    "tmdb.API_KEY =  login['api-key']"
   ]
  },
  {
   "cell_type": "code",
   "execution_count": 24,
   "id": "55bafc1b",
   "metadata": {},
   "outputs": [],
   "source": [
    "# Load JSON files:\n",
    "\n",
    "with open('Data\\\\tmdb_api_results_2019.json') as y1:\n",
    "    jsonfile1 = json.load(y1)\n",
    "\n",
    "with open('Data\\\\tmdb_api_results_2020.json') as y2:\n",
    "    jsonfile2 = json.load(y2)"
   ]
  },
  {
   "cell_type": "code",
   "execution_count": 25,
   "id": "ead9f4cb",
   "metadata": {},
   "outputs": [
    {
     "data": {
      "text/html": [
       "<div>\n",
       "<style scoped>\n",
       "    .dataframe tbody tr th:only-of-type {\n",
       "        vertical-align: middle;\n",
       "    }\n",
       "\n",
       "    .dataframe tbody tr th {\n",
       "        vertical-align: top;\n",
       "    }\n",
       "\n",
       "    .dataframe thead th {\n",
       "        text-align: right;\n",
       "    }\n",
       "</style>\n",
       "<table border=\"1\" class=\"dataframe\">\n",
       "  <thead>\n",
       "    <tr style=\"text-align: right;\">\n",
       "      <th></th>\n",
       "      <th>imdb_id</th>\n",
       "      <th>revenue</th>\n",
       "      <th>budget</th>\n",
       "      <th>certification</th>\n",
       "    </tr>\n",
       "  </thead>\n",
       "  <tbody>\n",
       "    <tr>\n",
       "      <th>0</th>\n",
       "      <td>0</td>\n",
       "      <td>0.0</td>\n",
       "      <td>NaN</td>\n",
       "      <td>NR</td>\n",
       "    </tr>\n",
       "    <tr>\n",
       "      <th>1</th>\n",
       "      <td>tt0385887</td>\n",
       "      <td>18377736.0</td>\n",
       "      <td>26000000.0</td>\n",
       "      <td>R</td>\n",
       "    </tr>\n",
       "    <tr>\n",
       "      <th>2</th>\n",
       "      <td>tt0437086</td>\n",
       "      <td>404852543.0</td>\n",
       "      <td>170000000.0</td>\n",
       "      <td>PG-13</td>\n",
       "    </tr>\n",
       "    <tr>\n",
       "      <th>3</th>\n",
       "      <td>tt0441881</td>\n",
       "      <td>2078370.0</td>\n",
       "      <td>23934823.0</td>\n",
       "      <td>R</td>\n",
       "    </tr>\n",
       "    <tr>\n",
       "      <th>4</th>\n",
       "      <td>tt0448115</td>\n",
       "      <td>365971656.0</td>\n",
       "      <td>80000000.0</td>\n",
       "      <td>PG-13</td>\n",
       "    </tr>\n",
       "  </tbody>\n",
       "</table>\n",
       "</div>"
      ],
      "text/plain": [
       "     imdb_id      revenue       budget certification\n",
       "0          0          0.0          NaN            NR\n",
       "1  tt0385887   18377736.0   26000000.0             R\n",
       "2  tt0437086  404852543.0  170000000.0         PG-13\n",
       "3  tt0441881    2078370.0   23934823.0             R\n",
       "4  tt0448115  365971656.0   80000000.0         PG-13"
      ]
     },
     "execution_count": 25,
     "metadata": {},
     "output_type": "execute_result"
    }
   ],
   "source": [
    "# Convert separate years to pandas DataFrames:\n",
    "\n",
    "year2019 = pd.DataFrame(jsonfile1)\n",
    "\n",
    "# Reduce the DataFrame down to 4 columns:\n",
    "year2019 = year2019[['imdb_id', 'revenue', 'budget', 'certification']]\n",
    "\n",
    "# Imputation:\n",
    "\n",
    "year2019['certification'].replace({'' : 'NR', '' : 'NR'}, inplace = True);\n",
    "\n",
    "year2019['certification'].fillna('NR', inplace =True)\n",
    "\n",
    "year2019['revenue'].fillna(0.0, inplace =True)\n",
    "\n",
    "# Check:\n",
    "\n",
    "year2019.head()"
   ]
  },
  {
   "cell_type": "code",
   "execution_count": 26,
   "id": "c1becb37",
   "metadata": {},
   "outputs": [
    {
     "data": {
      "text/html": [
       "<div>\n",
       "<style scoped>\n",
       "    .dataframe tbody tr th:only-of-type {\n",
       "        vertical-align: middle;\n",
       "    }\n",
       "\n",
       "    .dataframe tbody tr th {\n",
       "        vertical-align: top;\n",
       "    }\n",
       "\n",
       "    .dataframe thead th {\n",
       "        text-align: right;\n",
       "    }\n",
       "</style>\n",
       "<table border=\"1\" class=\"dataframe\">\n",
       "  <thead>\n",
       "    <tr style=\"text-align: right;\">\n",
       "      <th></th>\n",
       "      <th>imdb_id</th>\n",
       "      <th>revenue</th>\n",
       "      <th>budget</th>\n",
       "      <th>certification</th>\n",
       "    </tr>\n",
       "  </thead>\n",
       "  <tbody>\n",
       "    <tr>\n",
       "      <th>0</th>\n",
       "      <td>0</td>\n",
       "      <td>0.0</td>\n",
       "      <td>NaN</td>\n",
       "      <td>NR</td>\n",
       "    </tr>\n",
       "    <tr>\n",
       "      <th>1</th>\n",
       "      <td>tt0062336</td>\n",
       "      <td>0.0</td>\n",
       "      <td>0.0</td>\n",
       "      <td>NR</td>\n",
       "    </tr>\n",
       "    <tr>\n",
       "      <th>2</th>\n",
       "      <td>tt0093119</td>\n",
       "      <td>0.0</td>\n",
       "      <td>7500000.0</td>\n",
       "      <td>NR</td>\n",
       "    </tr>\n",
       "    <tr>\n",
       "      <th>3</th>\n",
       "      <td>tt0805647</td>\n",
       "      <td>26900000.0</td>\n",
       "      <td>0.0</td>\n",
       "      <td>PG</td>\n",
       "    </tr>\n",
       "    <tr>\n",
       "      <th>4</th>\n",
       "      <td>tt0920462</td>\n",
       "      <td>106045.0</td>\n",
       "      <td>0.0</td>\n",
       "      <td>R</td>\n",
       "    </tr>\n",
       "  </tbody>\n",
       "</table>\n",
       "</div>"
      ],
      "text/plain": [
       "     imdb_id     revenue     budget certification\n",
       "0          0         0.0        NaN            NR\n",
       "1  tt0062336         0.0        0.0            NR\n",
       "2  tt0093119         0.0  7500000.0            NR\n",
       "3  tt0805647  26900000.0        0.0            PG\n",
       "4  tt0920462    106045.0        0.0             R"
      ]
     },
     "execution_count": 26,
     "metadata": {},
     "output_type": "execute_result"
    }
   ],
   "source": [
    "# Convert separate years to pandas DataFrames:\n",
    "\n",
    "year2020 = pd.DataFrame(jsonfile2)\n",
    "\n",
    "# Reduce the DataFrame down to 4 columns:\n",
    "year2020 = year2020[['imdb_id', 'revenue', 'budget', 'certification']]\n",
    "\n",
    "# Imputation:\n",
    "\n",
    "year2020['certification'].replace({'' : 'NR', '' : 'NR'}, inplace = True);\n",
    "\n",
    "year2020['certification'].fillna('NR', inplace =True)\n",
    "\n",
    "year2020['revenue'].fillna(0.0, inplace =True)\n",
    "\n",
    "# Check:\n",
    "\n",
    "year2020.head()"
   ]
  },
  {
   "cell_type": "code",
   "execution_count": 27,
   "id": "9370432b",
   "metadata": {},
   "outputs": [
    {
     "data": {
      "text/html": [
       "<div>\n",
       "<style scoped>\n",
       "    .dataframe tbody tr th:only-of-type {\n",
       "        vertical-align: middle;\n",
       "    }\n",
       "\n",
       "    .dataframe tbody tr th {\n",
       "        vertical-align: top;\n",
       "    }\n",
       "\n",
       "    .dataframe thead th {\n",
       "        text-align: right;\n",
       "    }\n",
       "</style>\n",
       "<table border=\"1\" class=\"dataframe\">\n",
       "  <thead>\n",
       "    <tr style=\"text-align: right;\">\n",
       "      <th></th>\n",
       "      <th>imdb_id</th>\n",
       "      <th>revenue</th>\n",
       "      <th>budget</th>\n",
       "      <th>certification</th>\n",
       "    </tr>\n",
       "  </thead>\n",
       "  <tbody>\n",
       "    <tr>\n",
       "      <th>0</th>\n",
       "      <td>0</td>\n",
       "      <td>0.0</td>\n",
       "      <td>NaN</td>\n",
       "      <td>NR</td>\n",
       "    </tr>\n",
       "    <tr>\n",
       "      <th>1</th>\n",
       "      <td>tt0385887</td>\n",
       "      <td>18377736.0</td>\n",
       "      <td>26000000.0</td>\n",
       "      <td>R</td>\n",
       "    </tr>\n",
       "    <tr>\n",
       "      <th>2</th>\n",
       "      <td>tt0437086</td>\n",
       "      <td>404852543.0</td>\n",
       "      <td>170000000.0</td>\n",
       "      <td>PG-13</td>\n",
       "    </tr>\n",
       "    <tr>\n",
       "      <th>3</th>\n",
       "      <td>tt0441881</td>\n",
       "      <td>2078370.0</td>\n",
       "      <td>23934823.0</td>\n",
       "      <td>R</td>\n",
       "    </tr>\n",
       "    <tr>\n",
       "      <th>4</th>\n",
       "      <td>tt0448115</td>\n",
       "      <td>365971656.0</td>\n",
       "      <td>80000000.0</td>\n",
       "      <td>PG-13</td>\n",
       "    </tr>\n",
       "  </tbody>\n",
       "</table>\n",
       "</div>"
      ],
      "text/plain": [
       "     imdb_id      revenue       budget certification\n",
       "0          0          0.0          NaN            NR\n",
       "1  tt0385887   18377736.0   26000000.0             R\n",
       "2  tt0437086  404852543.0  170000000.0         PG-13\n",
       "3  tt0441881    2078370.0   23934823.0             R\n",
       "4  tt0448115  365971656.0   80000000.0         PG-13"
      ]
     },
     "execution_count": 27,
     "metadata": {},
     "output_type": "execute_result"
    }
   ],
   "source": [
    "# Combined DataFrame:\n",
    "\n",
    "# Combine / Concatinate separate DataFrames: \n",
    "\n",
    "combined = [year2019, year2020]\n",
    "\n",
    "df = pd.concat(combined)\n",
    "\n",
    "df.head()"
   ]
  },
  {
   "cell_type": "code",
   "execution_count": 28,
   "id": "095fe919",
   "metadata": {},
   "outputs": [],
   "source": [
    "# Removing movies with 0 revenue: \n",
    "\n",
    "no_revenue = df.loc[df['revenue']==0]\n",
    "\n",
    "# df[~no_revenue]"
   ]
  },
  {
   "cell_type": "code",
   "execution_count": 29,
   "id": "506c4596",
   "metadata": {},
   "outputs": [
    {
     "data": {
      "text/html": [
       "<div>\n",
       "<style scoped>\n",
       "    .dataframe tbody tr th:only-of-type {\n",
       "        vertical-align: middle;\n",
       "    }\n",
       "\n",
       "    .dataframe tbody tr th {\n",
       "        vertical-align: top;\n",
       "    }\n",
       "\n",
       "    .dataframe thead th {\n",
       "        text-align: right;\n",
       "    }\n",
       "</style>\n",
       "<table border=\"1\" class=\"dataframe\">\n",
       "  <thead>\n",
       "    <tr style=\"text-align: right;\">\n",
       "      <th></th>\n",
       "      <th>imdb_id</th>\n",
       "      <th>revenue</th>\n",
       "      <th>budget</th>\n",
       "      <th>certification</th>\n",
       "    </tr>\n",
       "  </thead>\n",
       "  <tbody>\n",
       "    <tr>\n",
       "      <th>1</th>\n",
       "      <td>tt0385887</td>\n",
       "      <td>18377736.0</td>\n",
       "      <td>26000000.0</td>\n",
       "      <td>R</td>\n",
       "    </tr>\n",
       "    <tr>\n",
       "      <th>2</th>\n",
       "      <td>tt0437086</td>\n",
       "      <td>404852543.0</td>\n",
       "      <td>170000000.0</td>\n",
       "      <td>PG-13</td>\n",
       "    </tr>\n",
       "    <tr>\n",
       "      <th>3</th>\n",
       "      <td>tt0441881</td>\n",
       "      <td>2078370.0</td>\n",
       "      <td>23934823.0</td>\n",
       "      <td>R</td>\n",
       "    </tr>\n",
       "    <tr>\n",
       "      <th>4</th>\n",
       "      <td>tt0448115</td>\n",
       "      <td>365971656.0</td>\n",
       "      <td>80000000.0</td>\n",
       "      <td>PG-13</td>\n",
       "    </tr>\n",
       "    <tr>\n",
       "      <th>5</th>\n",
       "      <td>tt0783640</td>\n",
       "      <td>3364426.0</td>\n",
       "      <td>20000000.0</td>\n",
       "      <td>R</td>\n",
       "    </tr>\n",
       "  </tbody>\n",
       "</table>\n",
       "</div>"
      ],
      "text/plain": [
       "     imdb_id      revenue       budget certification\n",
       "1  tt0385887   18377736.0   26000000.0             R\n",
       "2  tt0437086  404852543.0  170000000.0         PG-13\n",
       "3  tt0441881    2078370.0   23934823.0             R\n",
       "4  tt0448115  365971656.0   80000000.0         PG-13\n",
       "5  tt0783640    3364426.0   20000000.0             R"
      ]
     },
     "execution_count": 29,
     "metadata": {},
     "output_type": "execute_result"
    }
   ],
   "source": [
    "# Excluding titles with a budget of 0. \n",
    "\n",
    "budget = df.loc[df['budget'].copy() != 0]\n",
    "\n",
    "df = budget\n",
    "\n",
    "# Excluding titles with 0 revenue:\n",
    "\n",
    "revenue = df.loc[df['revenue'].copy() != 0]\n",
    "\n",
    "df = revenue\n",
    "\n",
    "df.head()"
   ]
  },
  {
   "cell_type": "code",
   "execution_count": 30,
   "id": "22287a8f",
   "metadata": {},
   "outputs": [],
   "source": [
    "# Exporting the final Data Frame as csv:\n",
    "\n",
    "df.to_csv(\"Data/year2019_2020.csv.gz\",compression='gzip',index=False)"
   ]
  },
  {
   "cell_type": "code",
   "execution_count": 31,
   "id": "c3810152",
   "metadata": {},
   "outputs": [
    {
     "data": {
      "text/plain": [
       "NR       118\n",
       "R         84\n",
       "PG-13     54\n",
       "PG        35\n",
       "G          4\n",
       "NC-17      1\n",
       "Name: certification, dtype: int64"
      ]
     },
     "execution_count": 31,
     "metadata": {},
     "output_type": "execute_result"
    }
   ],
   "source": [
    "df['certification'].value_counts()"
   ]
  },
  {
   "cell_type": "markdown",
   "id": "d72ef4f5",
   "metadata": {},
   "source": [
    "### Question: Does the MPAA rating of a movie (G/PG/PG-13/R) affect how much revenue the movie generates?"
   ]
  },
  {
   "cell_type": "markdown",
   "id": "7c643654",
   "metadata": {},
   "source": [
    "***1. State your Null Hypothesis and Alternative Hypothesis:***\n",
    "\n",
    "$H_0$: MPAA rating does not affect a movie's revenue.\n",
    "\n",
    "$H_A$: MPAA does affect a movie's revenue.\n",
    "\n",
    "***2. Select the correct test according to the data type and number of samples.***\n",
    "\n",
    "    Type of comparison: more than 2 samples\n",
    "\n",
    "    Data type: Numeric\n",
    "\n",
    "    Hypothesis Test: ANOVA and/or Tukey"
   ]
  },
  {
   "cell_type": "markdown",
   "id": "1bc12852",
   "metadata": {},
   "source": [
    "### Assumptions of the selected test:\n",
    "\n",
    "    No significant outliers\n",
    "    Equal variance\n",
    "    Normality"
   ]
  },
  {
   "cell_type": "code",
   "execution_count": 32,
   "id": "74de9910",
   "metadata": {},
   "outputs": [
    {
     "data": {
      "text/plain": [
       "dict_keys(['R', 'PG-13', 'NR', 'NC-17', 'PG', 'G'])"
      ]
     },
     "execution_count": 32,
     "metadata": {},
     "output_type": "execute_result"
    }
   ],
   "source": [
    "# Create dictionary for the various regions:\n",
    "\n",
    "ratings = {}\n",
    "\n",
    "# Loop through column to get the unique designations:\n",
    "\n",
    "for i in df['certification'].unique():\n",
    "    # Get series for group and rename:\n",
    "    data = df.loc[df['certification']==i, 'revenue'].copy()\n",
    "    \n",
    "    # Append dictionary:\n",
    "    ratings[i] = data\n",
    "ratings.keys()"
   ]
  },
  {
   "cell_type": "code",
   "execution_count": 33,
   "id": "0a9c6436",
   "metadata": {},
   "outputs": [
    {
     "data": {
      "text/plain": [
       "dict_keys(['R', 'PG-13', 'NR', 'PG', 'G'])"
      ]
     },
     "execution_count": 33,
     "metadata": {},
     "output_type": "execute_result"
    }
   ],
   "source": [
    "# Removing certifications with n < 3 observations \n",
    "\n",
    "del ratings['NC-17']\n",
    "\n",
    "ratings.keys()"
   ]
  },
  {
   "cell_type": "code",
   "execution_count": 34,
   "id": "984f3b07",
   "metadata": {},
   "outputs": [
    {
     "name": "stdout",
     "output_type": "stream",
     "text": [
      "There were 1 outliers in the R group.\n",
      "There were 1 outliers in the PG-13 group.\n",
      "There were 2 outliers in the NR group.\n",
      "There were 2 outliers in the PG group.\n",
      "There were 0 outliers in the G group.\n"
     ]
    }
   ],
   "source": [
    "import numpy as np\n",
    "from scipy import stats\n",
    "\n",
    "# Check for significant outliers:\n",
    "\n",
    "for rating_name, revenue_df in ratings.items():\n",
    "    # Identify outliers:\n",
    "    outliers = np.abs(stats.zscore(revenue_df))>3\n",
    "    \n",
    "    # Outliers per region:\n",
    "    print(f\"There were {outliers.sum()} outliers in the {rating_name} group.\")\n",
    "    \n",
    "    # Remove the outliers from dat and overwrite teh region dictionary:\n",
    "    revenue_df = revenue_df[~outliers]\n",
    "    \n",
    "    ratings[rating_name] = revenue_df"
   ]
  },
  {
   "cell_type": "code",
   "execution_count": 35,
   "id": "1e1bd7ed",
   "metadata": {},
   "outputs": [
    {
     "data": {
      "text/plain": [
       "1389    1.073395e+09\n",
       "4079    6.163178e+07\n",
       "4190    1.589437e+07\n",
       "3416    1.085563e+07\n",
       "Name: revenue, dtype: float64"
      ]
     },
     "execution_count": 35,
     "metadata": {},
     "output_type": "execute_result"
    }
   ],
   "source": [
    "data"
   ]
  },
  {
   "cell_type": "code",
   "execution_count": 36,
   "id": "152e0f11",
   "metadata": {},
   "outputs": [
    {
     "data": {
      "text/html": [
       "<div>\n",
       "<style scoped>\n",
       "    .dataframe tbody tr th:only-of-type {\n",
       "        vertical-align: middle;\n",
       "    }\n",
       "\n",
       "    .dataframe tbody tr th {\n",
       "        vertical-align: top;\n",
       "    }\n",
       "\n",
       "    .dataframe thead th {\n",
       "        text-align: right;\n",
       "    }\n",
       "</style>\n",
       "<table border=\"1\" class=\"dataframe\">\n",
       "  <thead>\n",
       "    <tr style=\"text-align: right;\">\n",
       "      <th></th>\n",
       "      <th>certification</th>\n",
       "      <th>n</th>\n",
       "      <th>p</th>\n",
       "      <th>significance?</th>\n",
       "    </tr>\n",
       "  </thead>\n",
       "  <tbody>\n",
       "    <tr>\n",
       "      <th>0</th>\n",
       "      <td>R</td>\n",
       "      <td>83</td>\n",
       "      <td>2.167157e-12</td>\n",
       "      <td>True</td>\n",
       "    </tr>\n",
       "    <tr>\n",
       "      <th>1</th>\n",
       "      <td>PG-13</td>\n",
       "      <td>53</td>\n",
       "      <td>1.397880e-09</td>\n",
       "      <td>True</td>\n",
       "    </tr>\n",
       "    <tr>\n",
       "      <th>2</th>\n",
       "      <td>NR</td>\n",
       "      <td>116</td>\n",
       "      <td>1.363012e-15</td>\n",
       "      <td>True</td>\n",
       "    </tr>\n",
       "    <tr>\n",
       "      <th>3</th>\n",
       "      <td>PG</td>\n",
       "      <td>33</td>\n",
       "      <td>4.865038e-07</td>\n",
       "      <td>True</td>\n",
       "    </tr>\n",
       "    <tr>\n",
       "      <th>4</th>\n",
       "      <td>G</td>\n",
       "      <td>4</td>\n",
       "      <td>4.169193e-03</td>\n",
       "      <td>True</td>\n",
       "    </tr>\n",
       "  </tbody>\n",
       "</table>\n",
       "</div>"
      ],
      "text/plain": [
       "  certification    n             p  significance?\n",
       "0             R   83  2.167157e-12           True\n",
       "1         PG-13   53  1.397880e-09           True\n",
       "2            NR  116  1.363012e-15           True\n",
       "3            PG   33  4.865038e-07           True\n",
       "4             G    4  4.169193e-03           True"
      ]
     },
     "execution_count": 36,
     "metadata": {},
     "output_type": "execute_result"
    }
   ],
   "source": [
    "# Normality Test:\n",
    "\n",
    "# Normal test for each region to confirm that there are more than 20 samples in each group.\n",
    "norm_results = [['certification', 'n', 'p', 'significance?']]\n",
    "\n",
    "# Loop through each certification in the dictionary:\n",
    "\n",
    "for ratings_name, temp_df in ratings.items():\n",
    "    \n",
    "    #Calculate normal test reuslts:\n",
    "    result = stats.shapiro(temp_df)\n",
    "    p = result.pvalue\n",
    "    n = len(temp_df)\n",
    "    \n",
    "    # Appred the normal results as list:\n",
    "    norm_results.append([ratings_name, n, p, p<.05])\n",
    "nrdf = pd.DataFrame(norm_results[1:], columns = norm_results[0])\n",
    "nrdf"
   ]
  },
  {
   "cell_type": "code",
   "execution_count": 38,
   "id": "5f962860",
   "metadata": {},
   "outputs": [
    {
     "data": {
      "text/plain": [
       "LeveneResult(statistic=12.730268110171655, pvalue=1.5250374377409812e-09)"
      ]
     },
     "execution_count": 38,
     "metadata": {},
     "output_type": "execute_result"
    }
   ],
   "source": [
    "# Levene's test for equal variance:\n",
    "\n",
    "ratingsLT = stats.levene(*ratings.values())\n",
    "ratingsLT"
   ]
  },
  {
   "cell_type": "code",
   "execution_count": 39,
   "id": "b3cd520a",
   "metadata": {},
   "outputs": [
    {
     "name": "stdout",
     "output_type": "stream",
     "text": [
      "The groups ***DO NOT*** have equal variance\n"
     ]
    }
   ],
   "source": [
    "# If-else statement to interpret the p-value:\n",
    "\n",
    "if ratingsLT.pvalue < 0.05:\n",
    "    print('The groups ***DO NOT*** have equal variance')\n",
    "    \n",
    "else:\n",
    "    print('The groups ***DO*** have equal variance')"
   ]
  },
  {
   "cell_type": "markdown",
   "id": "6b2953ed",
   "metadata": {},
   "source": [
    "### Interpretation:\n",
    "\n",
    "We will need to use a Welch's T test because the assumption of equal variance was inaccurate."
   ]
  },
  {
   "cell_type": "code",
   "execution_count": null,
   "id": "cdbbad16",
   "metadata": {},
   "outputs": [],
   "source": [
    "import numpy as np\n",
    "from scipy import stats\n",
    "\n",
    "# Check for significant outliers:\n",
    "\n",
    "for rating_name, revenue_df in ratings.items():\n",
    "    # Identify outliers:\n",
    "    outliers = np.abs(stats.zscore(revenue_df))>3\n",
    "    \n",
    "    # Outliers per region:\n",
    "    print(f\"There were {outliers.sum()} outliers in the {rating_name} group.\")\n",
    "    \n",
    "    # Remove the outliers from dat and overwrite teh region dictionary:\n",
    "    revenue_df = revenue_df[~outliers]\n",
    "    \n",
    "    ratings[rating_name] = revenue_df"
   ]
  },
  {
   "cell_type": "code",
   "execution_count": 49,
   "id": "2d000a7a",
   "metadata": {},
   "outputs": [
    {
     "ename": "TypeError",
     "evalue": "ttest_ind() got multiple values for argument 'equal_var'",
     "output_type": "error",
     "traceback": [
      "\u001b[1;31m---------------------------------------------------------------------------\u001b[0m",
      "\u001b[1;31mTypeError\u001b[0m                                 Traceback (most recent call last)",
      "\u001b[1;32m~\\AppData\\Local\\Temp\\ipykernel_32340\\829952586.py\u001b[0m in \u001b[0;36m<module>\u001b[1;34m\u001b[0m\n\u001b[0;32m      3\u001b[0m \u001b[1;32mfor\u001b[0m \u001b[0mrating_name\u001b[0m\u001b[1;33m,\u001b[0m \u001b[0mwtt_df\u001b[0m \u001b[1;32min\u001b[0m \u001b[0mratings\u001b[0m\u001b[1;33m.\u001b[0m\u001b[0mitems\u001b[0m\u001b[1;33m(\u001b[0m\u001b[1;33m)\u001b[0m\u001b[1;33m:\u001b[0m\u001b[1;33m\u001b[0m\u001b[1;33m\u001b[0m\u001b[0m\n\u001b[0;32m      4\u001b[0m \u001b[1;33m\u001b[0m\u001b[0m\n\u001b[1;32m----> 5\u001b[1;33m     \u001b[0mwelchs\u001b[0m \u001b[1;33m=\u001b[0m \u001b[0mstats\u001b[0m\u001b[1;33m.\u001b[0m\u001b[0mttest_ind\u001b[0m\u001b[1;33m(\u001b[0m\u001b[1;33m*\u001b[0m\u001b[0mwtt_df\u001b[0m\u001b[1;33m,\u001b[0m \u001b[0mequal_var\u001b[0m \u001b[1;33m=\u001b[0m \u001b[1;32mFalse\u001b[0m\u001b[1;33m)\u001b[0m\u001b[1;33m\u001b[0m\u001b[1;33m\u001b[0m\u001b[0m\n\u001b[0m\u001b[0;32m      6\u001b[0m \u001b[1;33m\u001b[0m\u001b[0m\n\u001b[0;32m      7\u001b[0m     \u001b[0mprint\u001b[0m\u001b[1;33m(\u001b[0m\u001b[0mwelchs\u001b[0m\u001b[1;33m)\u001b[0m\u001b[1;33m\u001b[0m\u001b[1;33m\u001b[0m\u001b[0m\n",
      "\u001b[1;31mTypeError\u001b[0m: ttest_ind() got multiple values for argument 'equal_var'"
     ]
    }
   ],
   "source": [
    "# For loop for each certification: \n",
    "\n",
    "for rating_name, wtt_df in ratings.items():\n",
    "    \n",
    "    welchs = stats.ttest_ind(*wtt_df, equal_var = False)\n",
    "    \n",
    "    print(welchs)\n",
    "    "
   ]
  },
  {
   "cell_type": "markdown",
   "id": "3a56c8cc",
   "metadata": {},
   "source": [
    "### Question: Do some movie genres earn more revenue than others?\n",
    "\n",
    "***1. State your Null Hypothesis and Alternative Hypothesis:***\n",
    "\n",
    "$H_0$: genre classification does not play a significant role in move revenue.\n",
    "\n",
    "$H_A$: genre classification has a significant influence on revenue.\n",
    "\n",
    "***2. Select the correct test according to the data type and number of samples.***\n",
    "\n",
    "    Type of comparison: 2 samples\n",
    "\n",
    "    Data type: Numeric\n",
    "\n",
    "    Hypothesis Test: 2 Sample T-Test"
   ]
  },
  {
   "cell_type": "markdown",
   "id": "3540b588",
   "metadata": {},
   "source": [
    "### Assumptions of the selected test:\n",
    "\n",
    "    No significant outliers\n",
    "    Normality\n",
    "    Equal Variance"
   ]
  },
  {
   "cell_type": "markdown",
   "id": "b2929588",
   "metadata": {},
   "source": [
    "### Question: Do movies released in 2020 earn less revenue than movies released in 2019?\n",
    "\n",
    "### How do the years compare for movie ratings?\n",
    "\n",
    "***1. State your Null Hypothesis and Alternative Hypothesis:***\n",
    "\n",
    "$H_0$: Movies released in 2020 do not earn less than movies released in 2019.\n",
    "\n",
    "$H_A$: Movies released in 2020 make significantly less than movies released in 2019.\n",
    "\n",
    "***2. Select the correct test according to the data type and number of samples.***\n",
    "\n",
    "    Type of comparison: 2 samples\n",
    "\n",
    "    Data type: Numeric\n",
    "\n",
    "    Hypothesis Test: 2 Sample T-Test"
   ]
  },
  {
   "cell_type": "markdown",
   "id": "84313c27",
   "metadata": {},
   "source": [
    "### Assumptions of the selected test:\n",
    "\n",
    "    No significant outliers\n",
    "    Normality\n",
    "    Equal Variance"
   ]
  },
  {
   "cell_type": "code",
   "execution_count": 40,
   "id": "62587272",
   "metadata": {},
   "outputs": [
    {
     "data": {
      "text/plain": [
       "dict_keys(['R', 'PG-13', 'NR', 'NC-17', 'PG', 'G'])"
      ]
     },
     "execution_count": 40,
     "metadata": {},
     "output_type": "execute_result"
    }
   ],
   "source": [
    "# Create dictionary for the various regions:\n",
    "\n",
    "ratings = {}\n",
    "\n",
    "# Loop through column to get the unique designations:\n",
    "\n",
    "for i in df['certification'].unique():\n",
    "    # Get series for group and rename:\n",
    "    data = df.loc[df['certification']==i, 'revenue'].copy()\n",
    "    \n",
    "    # Append dictionary:\n",
    "    ratings[i] = data\n",
    "ratings.keys()"
   ]
  },
  {
   "cell_type": "code",
   "execution_count": 41,
   "id": "3dfff0cc",
   "metadata": {},
   "outputs": [
    {
     "name": "stdout",
     "output_type": "stream",
     "text": [
      "There were 1 outliers in the R group.\n",
      "There were 1 outliers in the PG-13 group.\n",
      "There were 2 outliers in the NR group.\n",
      "There were 0 outliers in the NC-17 group.\n",
      "There were 2 outliers in the PG group.\n",
      "There were 0 outliers in the G group.\n"
     ]
    }
   ],
   "source": [
    "# Check for significant outliers:\n",
    "\n",
    "for rating_name, revenue_df in ratings.items():\n",
    "    # Identify outliers:\n",
    "    outliers = np.abs(stats.zscore(revenue_df))>3\n",
    "    \n",
    "    # Outliers per region:\n",
    "    print(f\"There were {outliers.sum()} outliers in the {rating_name} group.\")\n",
    "    \n",
    "    # Remove the outliers from dat and overwrite teh region dictionary:\n",
    "    revenue_df = revenue_df[~outliers]\n",
    "    \n",
    "    ratings[rating_name] = revenue_df"
   ]
  }
 ],
 "metadata": {
  "kernelspec": {
   "display_name": "Python (dojo-env)",
   "language": "python",
   "name": "dojo-env"
  },
  "language_info": {
   "codemirror_mode": {
    "name": "ipython",
    "version": 3
   },
   "file_extension": ".py",
   "mimetype": "text/x-python",
   "name": "python",
   "nbconvert_exporter": "python",
   "pygments_lexer": "ipython3",
   "version": "3.7.12"
  },
  "toc": {
   "base_numbering": 1,
   "nav_menu": {},
   "number_sections": true,
   "sideBar": true,
   "skip_h1_title": false,
   "title_cell": "Table of Contents",
   "title_sidebar": "Contents",
   "toc_cell": false,
   "toc_position": {},
   "toc_section_display": true,
   "toc_window_display": false
  }
 },
 "nbformat": 4,
 "nbformat_minor": 5
}
