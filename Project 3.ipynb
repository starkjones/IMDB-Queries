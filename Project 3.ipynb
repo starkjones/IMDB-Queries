{
 "cells": [
  {
   "cell_type": "markdown",
   "id": "4779a187",
   "metadata": {},
   "source": [
    "# ***Project 3***\n",
    "## Jonathan Jones\n",
    "### 22.06.23"
   ]
  },
  {
   "cell_type": "code",
   "execution_count": 2,
   "id": "7fed1455",
   "metadata": {},
   "outputs": [],
   "source": [
    "# Import libraries:\n",
    "\n",
    "import pandas as pd\n",
    "import numpy as np\n",
    "from sqlalchemy import create_engine"
   ]
  },
  {
   "cell_type": "code",
   "execution_count": 3,
   "id": "bdc6bae8",
   "metadata": {},
   "outputs": [
    {
     "data": {
      "text/html": [
       "<div>\n",
       "<style scoped>\n",
       "    .dataframe tbody tr th:only-of-type {\n",
       "        vertical-align: middle;\n",
       "    }\n",
       "\n",
       "    .dataframe tbody tr th {\n",
       "        vertical-align: top;\n",
       "    }\n",
       "\n",
       "    .dataframe thead th {\n",
       "        text-align: right;\n",
       "    }\n",
       "</style>\n",
       "<table border=\"1\" class=\"dataframe\">\n",
       "  <thead>\n",
       "    <tr style=\"text-align: right;\">\n",
       "      <th></th>\n",
       "      <th>tconst</th>\n",
       "      <th>titleType</th>\n",
       "      <th>primaryTitle</th>\n",
       "      <th>originalTitle</th>\n",
       "      <th>isAdult</th>\n",
       "      <th>startYear</th>\n",
       "      <th>endYear</th>\n",
       "      <th>runtimeMinutes</th>\n",
       "      <th>genres</th>\n",
       "    </tr>\n",
       "  </thead>\n",
       "  <tbody>\n",
       "    <tr>\n",
       "      <th>0</th>\n",
       "      <td>tt0000001</td>\n",
       "      <td>short</td>\n",
       "      <td>Carmencita</td>\n",
       "      <td>Carmencita</td>\n",
       "      <td>0</td>\n",
       "      <td>1894</td>\n",
       "      <td>\\N</td>\n",
       "      <td>1</td>\n",
       "      <td>Documentary,Short</td>\n",
       "    </tr>\n",
       "    <tr>\n",
       "      <th>1</th>\n",
       "      <td>tt0000002</td>\n",
       "      <td>short</td>\n",
       "      <td>Le clown et ses chiens</td>\n",
       "      <td>Le clown et ses chiens</td>\n",
       "      <td>0</td>\n",
       "      <td>1892</td>\n",
       "      <td>\\N</td>\n",
       "      <td>5</td>\n",
       "      <td>Animation,Short</td>\n",
       "    </tr>\n",
       "    <tr>\n",
       "      <th>2</th>\n",
       "      <td>tt0000003</td>\n",
       "      <td>short</td>\n",
       "      <td>Pauvre Pierrot</td>\n",
       "      <td>Pauvre Pierrot</td>\n",
       "      <td>0</td>\n",
       "      <td>1892</td>\n",
       "      <td>\\N</td>\n",
       "      <td>4</td>\n",
       "      <td>Animation,Comedy,Romance</td>\n",
       "    </tr>\n",
       "    <tr>\n",
       "      <th>3</th>\n",
       "      <td>tt0000004</td>\n",
       "      <td>short</td>\n",
       "      <td>Un bon bock</td>\n",
       "      <td>Un bon bock</td>\n",
       "      <td>0</td>\n",
       "      <td>1892</td>\n",
       "      <td>\\N</td>\n",
       "      <td>12</td>\n",
       "      <td>Animation,Short</td>\n",
       "    </tr>\n",
       "    <tr>\n",
       "      <th>4</th>\n",
       "      <td>tt0000005</td>\n",
       "      <td>short</td>\n",
       "      <td>Blacksmith Scene</td>\n",
       "      <td>Blacksmith Scene</td>\n",
       "      <td>0</td>\n",
       "      <td>1893</td>\n",
       "      <td>\\N</td>\n",
       "      <td>1</td>\n",
       "      <td>Comedy,Short</td>\n",
       "    </tr>\n",
       "  </tbody>\n",
       "</table>\n",
       "</div>"
      ],
      "text/plain": [
       "      tconst titleType            primaryTitle           originalTitle  \\\n",
       "0  tt0000001     short              Carmencita              Carmencita   \n",
       "1  tt0000002     short  Le clown et ses chiens  Le clown et ses chiens   \n",
       "2  tt0000003     short          Pauvre Pierrot          Pauvre Pierrot   \n",
       "3  tt0000004     short             Un bon bock             Un bon bock   \n",
       "4  tt0000005     short        Blacksmith Scene        Blacksmith Scene   \n",
       "\n",
       "  isAdult startYear endYear runtimeMinutes                    genres  \n",
       "0       0      1894      \\N              1         Documentary,Short  \n",
       "1       0      1892      \\N              5           Animation,Short  \n",
       "2       0      1892      \\N              4  Animation,Comedy,Romance  \n",
       "3       0      1892      \\N             12           Animation,Short  \n",
       "4       0      1893      \\N              1              Comedy,Short  "
      ]
     },
     "execution_count": 3,
     "metadata": {},
     "output_type": "execute_result"
    }
   ],
   "source": [
    "# Load Data:\n",
    "\n",
    "basics_url=\"https://datasets.imdbws.com/title.basics.tsv.gz\"\n",
    "\n",
    "# DataFrame: \n",
    "\n",
    "basics = pd.read_csv(basics_url, sep='\\t', low_memory=False)\n",
    "\n",
    "basics.head(5)"
   ]
  },
  {
   "cell_type": "markdown",
   "id": "64eb56ba",
   "metadata": {},
   "source": [
    "# ***Preprocessing***"
   ]
  },
  {
   "cell_type": "markdown",
   "id": "1efa02a3",
   "metadata": {},
   "source": [
    "## Title Basics Filtering/Cleaning Steps:\n",
    "\n",
    "1. Replace \"\\N\" with np.nan\n",
    "\n",
    "2. Eliminate movies that are null for runtimeMinutes\n",
    "\n",
    "3. Eliminate movies that are null for genre keep only titleType==Movie\n",
    "\n",
    "4. keep startYear 2000-2022\n",
    "\n",
    "5. Eliminate movies that include \"Documentary\" in genre (see tip below)\n"
   ]
  },
  {
   "cell_type": "code",
   "execution_count": 4,
   "id": "4f61676a",
   "metadata": {},
   "outputs": [],
   "source": [
    "# Replace \"\\N\" with np.nan\n",
    "\n",
    "basics.replace({'\\\\N':np.nan}, inplace =True)"
   ]
  },
  {
   "cell_type": "code",
   "execution_count": 5,
   "id": "63ce00d1",
   "metadata": {},
   "outputs": [
    {
     "data": {
      "text/plain": [
       "array(['1', '5', '4', ..., nan, '27', '10'], dtype=object)"
      ]
     },
     "execution_count": 5,
     "metadata": {},
     "output_type": "execute_result"
    }
   ],
   "source": [
    "basics['runtimeMinutes'].values"
   ]
  },
  {
   "cell_type": "code",
   "execution_count": null,
   "id": "68bb9b43",
   "metadata": {},
   "outputs": [],
   "source": [
    "basics.info()"
   ]
  },
  {
   "cell_type": "code",
   "execution_count": null,
   "id": "48de6fb2",
   "metadata": {},
   "outputs": [],
   "source": [
    "# Eliminate movies that are null for runtimeMinutes\n",
    "\n",
    "basics.dropna(subset=['runtimeMinutes'], inplace=True)\n",
    "basics['runtimeMinutes'].value_counts()"
   ]
  },
  {
   "cell_type": "code",
   "execution_count": null,
   "id": "192ccb7e",
   "metadata": {},
   "outputs": [],
   "source": [
    "basics['runtimeMinutes'].isna().sum()"
   ]
  },
  {
   "cell_type": "code",
   "execution_count": null,
   "id": "e7f3048b",
   "metadata": {},
   "outputs": [],
   "source": [
    "# Eliminate movies that are null for genre:\n",
    "\n",
    "basics.dropna(subset=['genres'], inplace=True)\n",
    "\n",
    "basics['genres'].value_counts()"
   ]
  },
  {
   "cell_type": "code",
   "execution_count": null,
   "id": "9be8c7f8",
   "metadata": {},
   "outputs": [],
   "source": [
    "# Keep only titleType==Movie: \n",
    "\n",
    "movie = basics['titleType'] == 'movie'\n",
    "\n",
    "basics = basics[movie]\n",
    "\n",
    "basics.head()"
   ]
  },
  {
   "cell_type": "code",
   "execution_count": null,
   "id": "a2d0002d",
   "metadata": {},
   "outputs": [],
   "source": [
    "basics['startYear'].value_counts()"
   ]
  },
  {
   "cell_type": "code",
   "execution_count": null,
   "id": "43e666c1",
   "metadata": {},
   "outputs": [],
   "source": [
    "# keep startYear 2000-2022:\n",
    "\n",
    "# Conversion to date time \n",
    "\n",
    "basics['startYear'] =pd.to_datetime(basics['startYear'])\n",
    "\n",
    "\n",
    "start_date = '2000'\n",
    "end_date = '2023'\n",
    "\n",
    "daterange = (basics['startYear'] >= start_date) & (basics['startYear'] <= end_date)\n",
    "\n",
    "basics = basics.loc[daterange]\n",
    "\n",
    "basics.head()"
   ]
  },
  {
   "cell_type": "code",
   "execution_count": null,
   "id": "a0da7e27",
   "metadata": {},
   "outputs": [],
   "source": [
    "# Eliminate movies that include \"Documentary\" in genre (see tip below):\n",
    "\n",
    "documentary = basics['genres'].str.contains('documentary',case=False)\n",
    "basics = basics[~documentary]\n",
    "\n",
    "basics.head()\n",
    "\n",
    "basics['genres'].value_counts()"
   ]
  },
  {
   "cell_type": "markdown",
   "id": "547719ef",
   "metadata": {},
   "source": [
    "## AKAs Filtering/Cleaning Steps:"
   ]
  },
  {
   "cell_type": "markdown",
   "id": "dc5cd84d",
   "metadata": {},
   "source": [
    "1. keep only US entries.\n",
    "\n",
    "2. Replace \"\\N\" with np.nan"
   ]
  },
  {
   "cell_type": "code",
   "execution_count": null,
   "id": "c6f0fb18",
   "metadata": {},
   "outputs": [],
   "source": [
    "# Load Data:\n",
    "\n",
    "akas_url =\"https://datasets.imdbws.com/title.akas.tsv.gz\"\n",
    "\n",
    "# DataFrame: \n",
    "\n",
    "akas = pd.read_csv(akas_url, sep='\\t', low_memory=False)\n",
    "\n",
    "akas.head(5)"
   ]
  },
  {
   "cell_type": "code",
   "execution_count": null,
   "id": "dbc0667c",
   "metadata": {},
   "outputs": [],
   "source": [
    "# Keep only US entires:\n",
    "\n",
    "us = akas['region'] == 'US'\n",
    "\n",
    "akas = akas[us]\n",
    "\n",
    "akas.head()"
   ]
  },
  {
   "cell_type": "code",
   "execution_count": null,
   "id": "fb4f00d8",
   "metadata": {},
   "outputs": [],
   "source": [
    "# Replace \"\\N\" with np.nan: \n",
    "\n",
    "akas.replace({'\\\\N':np.nan}, inplace =True) \n",
    "\n",
    "akas.head()"
   ]
  },
  {
   "cell_type": "markdown",
   "id": "e43a3882",
   "metadata": {},
   "source": [
    "## Ratings Filtering/Cleaning Steps:"
   ]
  },
  {
   "cell_type": "code",
   "execution_count": null,
   "id": "5179d282",
   "metadata": {},
   "outputs": [],
   "source": [
    "# Load Data:\n",
    "\n",
    "rating_url =\"https://datasets.imdbws.com/title.ratings.tsv.gz\"\n",
    "\n",
    "# DataFrame: \n",
    "ratings = pd.read_csv(rating_url, sep='\\t', low_memory=False)\n",
    "\n",
    "ratings.head()"
   ]
  },
  {
   "cell_type": "code",
   "execution_count": null,
   "id": "955bd80e",
   "metadata": {},
   "outputs": [],
   "source": [
    "# Replace \"\\N\" with np.nan: \n",
    "\n",
    "ratings.replace({'\\\\N':np.nan}, inplace =True) \n",
    "\n",
    "ratings.head()"
   ]
  },
  {
   "cell_type": "markdown",
   "id": "f31b72c1",
   "metadata": {},
   "source": [
    "# Filtering one DataFrame based on another"
   ]
  },
  {
   "cell_type": "code",
   "execution_count": null,
   "id": "81b61d60",
   "metadata": {},
   "outputs": [],
   "source": [
    "# Filter the basics table down to only include the US by using the filter akas dataframe:\n",
    "\n",
    "ustitles = basics['tconst'].isin(akas['titleId'])\n",
    "basics[ustitles]"
   ]
  },
  {
   "cell_type": "markdown",
   "id": "31c3dd8e",
   "metadata": {},
   "source": [
    "## Creating a \"Data\" folder"
   ]
  },
  {
   "cell_type": "code",
   "execution_count": null,
   "id": "597675df",
   "metadata": {},
   "outputs": [],
   "source": [
    "# Make new folder with os:\n",
    "import os\n",
    "os.makedirs('Data/',exist_ok=True) \n",
    "# Confirm folder created\n",
    "os.listdir(\"Data/\")"
   ]
  },
  {
   "cell_type": "code",
   "execution_count": null,
   "id": "9af1fd5d",
   "metadata": {},
   "outputs": [],
   "source": [
    "# Save dataframes to folder:\n",
    "\n",
    "basics.to_csv(\"Data/title_basics.csv.gz\",compression='gzip',index=False)\n",
    "\n",
    "akas.to_csv(\"Data/title_basics.csv.gz\",compression='gzip',index=False)\n",
    "\n",
    "ratings.to_csv(\"Data/title_basics.csv.gz\",compression='gzip',index=False)"
   ]
  }
 ],
 "metadata": {
  "kernelspec": {
   "display_name": "Python (dojo-env)",
   "language": "python",
   "name": "dojo-env"
  },
  "language_info": {
   "codemirror_mode": {
    "name": "ipython",
    "version": 3
   },
   "file_extension": ".py",
   "mimetype": "text/x-python",
   "name": "python",
   "nbconvert_exporter": "python",
   "pygments_lexer": "ipython3",
   "version": "3.7.12"
  },
  "toc": {
   "base_numbering": 1,
   "nav_menu": {},
   "number_sections": true,
   "sideBar": true,
   "skip_h1_title": false,
   "title_cell": "Table of Contents",
   "title_sidebar": "Contents",
   "toc_cell": false,
   "toc_position": {},
   "toc_section_display": true,
   "toc_window_display": false
  }
 },
 "nbformat": 4,
 "nbformat_minor": 5
}
