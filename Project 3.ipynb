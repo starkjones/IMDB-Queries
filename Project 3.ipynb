{
 "cells": [
  {
   "cell_type": "markdown",
   "id": "d9060a6c",
   "metadata": {},
   "source": [
    "# ***Project 3***\n",
    "## Jonathan Jones\n",
    "### 22.06.23"
   ]
  },
  {
   "cell_type": "code",
   "execution_count": null,
   "id": "f5fa5250",
   "metadata": {},
   "outputs": [],
   "source": [
    "# Import libraries:\n",
    "\n",
    "import pandas as pd\n",
    "from sqlalchemy import create_engine"
   ]
  },
  {
   "cell_type": "markdown",
   "id": "a62de54a",
   "metadata": {},
   "source": [
    "## Loading TSVs"
   ]
  },
  {
   "cell_type": "code",
   "execution_count": null,
   "id": "ab24fe5f",
   "metadata": {},
   "outputs": [],
   "source": [
    "basics_url=\"https://datasets.imdbws.com/title.basics.tsv.gz\"\n",
    "akas_url =\"https://datasets.imdbws.com/title.akas.tsv.gz\"\n",
    "rating_url =\"https://datasets.imdbws.com/title.ratings.tsv.gz\"\n",
    "\n",
    "# DataFrames: \n",
    "\n",
    "basics = pd.read_csv(basics_url, sep='\\t', low_memory=False)\n",
    "akas = pd.read_csv(akas_url, sep='\\t', low_memory=False)\n",
    "ratings = pd.read_csv(rating_url, sep='\\t', low_memory=False)"
   ]
  },
  {
   "cell_type": "markdown",
   "id": "f3c3b47a",
   "metadata": {},
   "source": [
    "## Replacing Null Values "
   ]
  },
  {
   "cell_type": "code",
   "execution_count": null,
   "id": "32067b93",
   "metadata": {},
   "outputs": [],
   "source": [
    "# Replacing null values:\n",
    "\n",
    "basics.replace({'\\\\N':np.nan}, inplace =True) \n",
    "akas.replace({'\\\\N':np.nan}, inplace =True) \n",
    "ratings.replace({'\\\\N':np.nan}, inplace =True) "
   ]
  },
  {
   "cell_type": "markdown",
   "id": "74b60494",
   "metadata": {},
   "source": [
    "## Preprocessing "
   ]
  },
  {
   "cell_type": "markdown",
   "id": "519b5738",
   "metadata": {},
   "source": [
    "ltering/Cleaning Steps:\n",
    "\n",
    "***Title Basics:***\n",
    "\n",
    "Replace \"\\N\" with np.nan\n",
    "\n",
    "Eliminate movies that are null for runtimeMinutes\n",
    "\n",
    "Eliminate movies that are null for genre\n",
    "keep only titleType==Movie\n",
    "\n",
    "keep startYear 2000-2022\n",
    "\n",
    "Eliminate movies that include  \"Documentary\" in genre (see tip below)"
   ]
  },
  {
   "cell_type": "code",
   "execution_count": null,
   "id": "54a78626",
   "metadata": {},
   "outputs": [],
   "source": [
    "basics.head()"
   ]
  },
  {
   "cell_type": "markdown",
   "id": "cde581ad",
   "metadata": {},
   "source": [
    "***AKAs:***\n",
    "    \n",
    "keep only US entries.\n",
    "\n",
    "Replace \"\\N\" with np.nan"
   ]
  },
  {
   "cell_type": "code",
   "execution_count": null,
   "id": "38cb4055",
   "metadata": {},
   "outputs": [],
   "source": []
  },
  {
   "cell_type": "markdown",
   "id": "0dccd92c",
   "metadata": {},
   "source": [
    "***Ratings:***\n",
    "\n",
    "Replace \"\\N\" with np.nan (if any)"
   ]
  },
  {
   "cell_type": "code",
   "execution_count": null,
   "id": "2dc46fb8",
   "metadata": {},
   "outputs": [],
   "source": []
  },
  {
   "cell_type": "markdown",
   "id": "ead3a550",
   "metadata": {},
   "source": [
    "## ***Filtering one dataframe based on another***\n",
    "\n",
    "Filter the basics df to only include the movies that are present in your filter akas dataframe. \n",
    "This is how you will ultimately be able to filter the movies by region being in the US.  "
   ]
  },
  {
   "cell_type": "code",
   "execution_count": null,
   "id": "0a666409",
   "metadata": {},
   "outputs": [],
   "source": []
  },
  {
   "cell_type": "markdown",
   "id": "721cd692",
   "metadata": {},
   "source": [
    "## ***Saving Compressed .csv.gz Files***"
   ]
  },
  {
   "cell_type": "code",
   "execution_count": null,
   "id": "54562df2",
   "metadata": {},
   "outputs": [],
   "source": []
  }
 ],
 "metadata": {
  "kernelspec": {
   "display_name": "Python (dojo-env)",
   "language": "python",
   "name": "dojo-env"
  },
  "language_info": {
   "codemirror_mode": {
    "name": "ipython",
    "version": 3
   },
   "file_extension": ".py",
   "mimetype": "text/x-python",
   "name": "python",
   "nbconvert_exporter": "python",
   "pygments_lexer": "ipython3",
   "version": "3.7.12"
  },
  "toc": {
   "base_numbering": 1,
   "nav_menu": {},
   "number_sections": true,
   "sideBar": true,
   "skip_h1_title": false,
   "title_cell": "Table of Contents",
   "title_sidebar": "Contents",
   "toc_cell": false,
   "toc_position": {},
   "toc_section_display": true,
   "toc_window_display": false
  }
 },
 "nbformat": 4,
 "nbformat_minor": 5
}
