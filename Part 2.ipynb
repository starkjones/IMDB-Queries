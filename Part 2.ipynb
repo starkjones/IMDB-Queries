{
 "cells": [
  {
   "cell_type": "markdown",
   "id": "80938418",
   "metadata": {},
   "source": [
    "## Exploratory Data Analysis"
   ]
  },
  {
   "cell_type": "code",
   "execution_count": 1,
   "id": "0b8e8a65",
   "metadata": {},
   "outputs": [],
   "source": [
    "# Load in your csv.gz's of results for each year extracte:\n",
    "\n",
    "# Import libraries:\n",
    "\n",
    "import pandas as pd\n",
    "import numpy as np\n",
    "from sqlalchemy import create_engine\n",
    "\n",
    "# DataFrame: \n",
    "\n",
    "basics = pd.read_csv(, sep='\\t', low_memory=False)\n",
    "\n",
    "basics.head(5)"
   ]
  },
  {
   "cell_type": "markdown",
   "id": "8fb08726",
   "metadata": {},
   "source": [
    "Your stakeholder wants you to extract the budget, revenue, and MPAA Rating (G/PG/PG-13/R), which is also called \"Certification\"."
   ]
  },
  {
   "cell_type": "markdown",
   "id": "8771b50d",
   "metadata": {},
   "source": [
    "As a proof-of-concept, they requested you perform a test extraction of movies that started in 2000 or 2001"
   ]
  },
  {
   "cell_type": "markdown",
   "id": "8e1f39af",
   "metadata": {},
   "source": [
    "Each year should be saved as a separate .csv.gz file"
   ]
  },
  {
   "cell_type": "code",
   "execution_count": null,
   "id": "f17ea734",
   "metadata": {},
   "outputs": [],
   "source": []
  }
 ],
 "metadata": {
  "kernelspec": {
   "display_name": "Python (dojo-env)",
   "language": "python",
   "name": "dojo-env"
  },
  "language_info": {
   "codemirror_mode": {
    "name": "ipython",
    "version": 3
   },
   "file_extension": ".py",
   "mimetype": "text/x-python",
   "name": "python",
   "nbconvert_exporter": "python",
   "pygments_lexer": "ipython3",
   "version": "3.7.12"
  },
  "toc": {
   "base_numbering": 1,
   "nav_menu": {},
   "number_sections": true,
   "sideBar": true,
   "skip_h1_title": false,
   "title_cell": "Table of Contents",
   "title_sidebar": "Contents",
   "toc_cell": false,
   "toc_position": {},
   "toc_section_display": true,
   "toc_window_display": false
  }
 },
 "nbformat": 4,
 "nbformat_minor": 5
}
